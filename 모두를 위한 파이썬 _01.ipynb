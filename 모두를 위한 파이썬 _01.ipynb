{
 "cells": [
  {
   "cell_type": "markdown",
   "id": "95f49a8f",
   "metadata": {},
   "source": [
    "### 학습 목표\n",
    "\n",
    "사용자가 아닌, 프로그래머로서 컴퓨터를 바라보는 관점 변화의 필요성을 이해하고 설명할 수 있다. \n",
    "\n",
    "##### 핵심 키워드\n",
    "- 프로그래머\n",
    "- 파이썬\n",
    "- 컴퓨터 언어"
   ]
  },
  {
   "cell_type": "markdown",
   "id": "7863395a",
   "metadata": {},
   "source": [
    "#### 컴퓨터의 내부 구조 \n",
    "\n",
    "컴퓨터의 내부 구조를 이해하는 것은 프로그래밍의 시작.\n",
    "메인 메모리, 입력 장치, 출력장치, 보조기억장치, 마더 보드가 하는 역할이 무엇이고 서로 어떤 관계를 형성하고 있는지 파악\n",
    "\n",
    "##### 핵심 키워드\n",
    "- 하드웨어의 구성\n",
    "- CPU\n",
    "- 입력장치 \n",
    "- 출력 장치\n",
    "- 메인 메모리 \n",
    "- 보조 기억장치\n",
    "- 마더 보드 "
   ]
  },
  {
   "cell_type": "markdown",
   "id": "15229907",
   "metadata": {},
   "source": [
    "### 학습 내용\n",
    "##### 정의\n",
    "- CPU(Central Processing Unit\n",
    "    <br> 프로그램을 실행. cpu는 항상 다음에 무엇을 하지?하고 질문한다. 인공지능을 가진것은 아니지만 처리능력이 매우 뛰어남.\n",
    "- 입력 장치\n",
    "    <br> 사람에 의해 정보를 입력받는 기기들입니다. 예를 들어 키보드, 마우스, 터치 스크린등\n",
    "- 출력 장치\n",
    "    <br>처리된 정보의 결과를 보여주는 기계입니다. 예를 들어 화면, 스피커, 프린터, DVD 기록기 입니다.\n",
    "\n",
    "- 메인 메모리\n",
    "    <br>적은 양의 정보를 저장하는 장치이며, 속도는 매우 빠르지만 컴퓨터를 종료하면 사라지는 휘발성 메모리입니다.\n",
    "\n",
    "- 보조 기억장치\n",
    "    <br>지우지 않는 이상 정보를 계속해서 가지고 있습니다. 예를들면, SSD, HDD가 되겠지요.\n",
    "    \n",
    "    \n",
    "##### 각각의 관계\n",
    "CPU는 계속해서 다음에 무엇을 할지 물어 본다. 이것에 대한 답변은 사람이 하며, 답변들의 목록이나 순차적으로 진행되어야 할 사항들을 파이썬 언어로 작성한 뒤 보조 기억장치에 저장됨. CPU의 질문에 답변을 해야 하는 순간이 오면 메인 메모리에 해당 내용을 로드 한다. 이 과정에서 2진수로 만들어져 있는 기계어로 마법처럼 변환이 되며 이는 컴퓨터가 이해할 수 있는 언어로 전달 되게 됩니다. 그 후 내부적으로는 1초에 수십억번(CPU에 성능에 따라 달라집니다)에 걸쳐 질문과 답변이 이루어 지게 됩니다. "
   ]
  },
  {
   "cell_type": "code",
   "execution_count": null,
   "id": "e0604374",
   "metadata": {},
   "outputs": [],
   "source": []
  }
 ],
 "metadata": {
  "kernelspec": {
   "display_name": "Python 3 (ipykernel)",
   "language": "python",
   "name": "python3"
  },
  "language_info": {
   "codemirror_mode": {
    "name": "ipython",
    "version": 3
   },
   "file_extension": ".py",
   "mimetype": "text/x-python",
   "name": "python",
   "nbconvert_exporter": "python",
   "pygments_lexer": "ipython3",
   "version": "3.11.4"
  }
 },
 "nbformat": 4,
 "nbformat_minor": 5
}
