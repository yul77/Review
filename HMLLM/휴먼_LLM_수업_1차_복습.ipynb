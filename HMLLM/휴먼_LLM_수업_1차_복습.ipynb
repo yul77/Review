{
  "nbformat": 4,
  "nbformat_minor": 0,
  "metadata": {
    "colab": {
      "private_outputs": true,
      "provenance": [],
      "authorship_tag": "ABX9TyNiEhd2aS8UijF7C/fu1ftT",
      "include_colab_link": true
    },
    "kernelspec": {
      "name": "python3",
      "display_name": "Python 3"
    },
    "language_info": {
      "name": "python"
    }
  },
  "cells": [
    {
      "cell_type": "markdown",
      "metadata": {
        "id": "view-in-github",
        "colab_type": "text"
      },
      "source": [
        "<a href=\"https://colab.research.google.com/github/yul77/Review/blob/main/HMLLM/%ED%9C%B4%EB%A8%BC_LLM_%EC%88%98%EC%97%85_1%EC%B0%A8_%EB%B3%B5%EC%8A%B5.ipynb\" target=\"_parent\"><img src=\"https://colab.research.google.com/assets/colab-badge.svg\" alt=\"Open In Colab\"/></a>"
      ]
    },
    {
      "cell_type": "code",
      "execution_count": null,
      "metadata": {
        "id": "YmKNqjB3yTFX"
      },
      "outputs": [],
      "source": [
        "# 텍스트 전처리\n",
        "\n",
        "import nltk\n",
        "import numoy as np\n",
        "\n",
        "# punkt 데이터 다운로드\n",
        "nltk.download('punkt') # punkt: NLTK에서 제공하는 토큰화 도구. 문장을 단어로 나누는 데 사용됨.\n",
        "\n",
        "# 토큰화\n",
        "text = \"NLP is fascinating\"       # 분석할 문자\n",
        "tokens = nltk.word_toknize(text)  # 주어진 문자열(text)을 단어(word)로 나누어 리스트 형태로 반환\n",
        "print(tokens)                     # ['NLP', 'is', 'fascinating','.'] 단어와 구두점 출력\n",
        "\n",
        "# One-hot encoding representation\n"
      ]
    }
  ]
}