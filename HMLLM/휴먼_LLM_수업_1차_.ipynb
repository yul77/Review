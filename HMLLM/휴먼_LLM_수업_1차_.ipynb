{
  "nbformat": 4,
  "nbformat_minor": 0,
  "metadata": {
    "colab": {
      "provenance": [],
      "authorship_tag": "ABX9TyM9Qj0hv5xrJh8KXsRxfcL7",
      "include_colab_link": true
    },
    "kernelspec": {
      "name": "python3",
      "display_name": "Python 3"
    },
    "language_info": {
      "name": "python"
    },
    "widgets": {
      "application/vnd.jupyter.widget-state+json": {
        "86d8884f2731478fa3e40524745b108d": {
          "model_module": "@jupyter-widgets/controls",
          "model_name": "HBoxModel",
          "model_module_version": "1.5.0",
          "state": {
            "_dom_classes": [],
            "_model_module": "@jupyter-widgets/controls",
            "_model_module_version": "1.5.0",
            "_model_name": "HBoxModel",
            "_view_count": null,
            "_view_module": "@jupyter-widgets/controls",
            "_view_module_version": "1.5.0",
            "_view_name": "HBoxView",
            "box_style": "",
            "children": [
              "IPY_MODEL_9ed2b24310da429bb2f9312810c24cf7",
              "IPY_MODEL_779cba1869094360af87c690d0f74566",
              "IPY_MODEL_d490801a5c1c40f29fb87e36c2252bda"
            ],
            "layout": "IPY_MODEL_0dfafe3e2c9d4c3587e83f6806eb3ed4"
          }
        },
        "9ed2b24310da429bb2f9312810c24cf7": {
          "model_module": "@jupyter-widgets/controls",
          "model_name": "HTMLModel",
          "model_module_version": "1.5.0",
          "state": {
            "_dom_classes": [],
            "_model_module": "@jupyter-widgets/controls",
            "_model_module_version": "1.5.0",
            "_model_name": "HTMLModel",
            "_view_count": null,
            "_view_module": "@jupyter-widgets/controls",
            "_view_module_version": "1.5.0",
            "_view_name": "HTMLView",
            "description": "",
            "description_tooltip": null,
            "layout": "IPY_MODEL_c0d7bdf3159d4ca5a2375331a3c777a5",
            "placeholder": "​",
            "style": "IPY_MODEL_7039271e34b7453e8daf51eb70ef3a82",
            "value": "tokenizer_config.json: 100%"
          }
        },
        "779cba1869094360af87c690d0f74566": {
          "model_module": "@jupyter-widgets/controls",
          "model_name": "FloatProgressModel",
          "model_module_version": "1.5.0",
          "state": {
            "_dom_classes": [],
            "_model_module": "@jupyter-widgets/controls",
            "_model_module_version": "1.5.0",
            "_model_name": "FloatProgressModel",
            "_view_count": null,
            "_view_module": "@jupyter-widgets/controls",
            "_view_module_version": "1.5.0",
            "_view_name": "ProgressView",
            "bar_style": "success",
            "description": "",
            "description_tooltip": null,
            "layout": "IPY_MODEL_39c4cf627fc44e6caa5e090821776955",
            "max": 26,
            "min": 0,
            "orientation": "horizontal",
            "style": "IPY_MODEL_073cf5974d2e4ff2ba36ac809a9839e7",
            "value": 26
          }
        },
        "d490801a5c1c40f29fb87e36c2252bda": {
          "model_module": "@jupyter-widgets/controls",
          "model_name": "HTMLModel",
          "model_module_version": "1.5.0",
          "state": {
            "_dom_classes": [],
            "_model_module": "@jupyter-widgets/controls",
            "_model_module_version": "1.5.0",
            "_model_name": "HTMLModel",
            "_view_count": null,
            "_view_module": "@jupyter-widgets/controls",
            "_view_module_version": "1.5.0",
            "_view_name": "HTMLView",
            "description": "",
            "description_tooltip": null,
            "layout": "IPY_MODEL_e5bbc1a6630e4ee0a2536ff840f7f4d8",
            "placeholder": "​",
            "style": "IPY_MODEL_148144c8c28047179624dca6419da39a",
            "value": " 26.0/26.0 [00:00&lt;00:00, 292B/s]"
          }
        },
        "0dfafe3e2c9d4c3587e83f6806eb3ed4": {
          "model_module": "@jupyter-widgets/base",
          "model_name": "LayoutModel",
          "model_module_version": "1.2.0",
          "state": {
            "_model_module": "@jupyter-widgets/base",
            "_model_module_version": "1.2.0",
            "_model_name": "LayoutModel",
            "_view_count": null,
            "_view_module": "@jupyter-widgets/base",
            "_view_module_version": "1.2.0",
            "_view_name": "LayoutView",
            "align_content": null,
            "align_items": null,
            "align_self": null,
            "border": null,
            "bottom": null,
            "display": null,
            "flex": null,
            "flex_flow": null,
            "grid_area": null,
            "grid_auto_columns": null,
            "grid_auto_flow": null,
            "grid_auto_rows": null,
            "grid_column": null,
            "grid_gap": null,
            "grid_row": null,
            "grid_template_areas": null,
            "grid_template_columns": null,
            "grid_template_rows": null,
            "height": null,
            "justify_content": null,
            "justify_items": null,
            "left": null,
            "margin": null,
            "max_height": null,
            "max_width": null,
            "min_height": null,
            "min_width": null,
            "object_fit": null,
            "object_position": null,
            "order": null,
            "overflow": null,
            "overflow_x": null,
            "overflow_y": null,
            "padding": null,
            "right": null,
            "top": null,
            "visibility": null,
            "width": null
          }
        },
        "c0d7bdf3159d4ca5a2375331a3c777a5": {
          "model_module": "@jupyter-widgets/base",
          "model_name": "LayoutModel",
          "model_module_version": "1.2.0",
          "state": {
            "_model_module": "@jupyter-widgets/base",
            "_model_module_version": "1.2.0",
            "_model_name": "LayoutModel",
            "_view_count": null,
            "_view_module": "@jupyter-widgets/base",
            "_view_module_version": "1.2.0",
            "_view_name": "LayoutView",
            "align_content": null,
            "align_items": null,
            "align_self": null,
            "border": null,
            "bottom": null,
            "display": null,
            "flex": null,
            "flex_flow": null,
            "grid_area": null,
            "grid_auto_columns": null,
            "grid_auto_flow": null,
            "grid_auto_rows": null,
            "grid_column": null,
            "grid_gap": null,
            "grid_row": null,
            "grid_template_areas": null,
            "grid_template_columns": null,
            "grid_template_rows": null,
            "height": null,
            "justify_content": null,
            "justify_items": null,
            "left": null,
            "margin": null,
            "max_height": null,
            "max_width": null,
            "min_height": null,
            "min_width": null,
            "object_fit": null,
            "object_position": null,
            "order": null,
            "overflow": null,
            "overflow_x": null,
            "overflow_y": null,
            "padding": null,
            "right": null,
            "top": null,
            "visibility": null,
            "width": null
          }
        },
        "7039271e34b7453e8daf51eb70ef3a82": {
          "model_module": "@jupyter-widgets/controls",
          "model_name": "DescriptionStyleModel",
          "model_module_version": "1.5.0",
          "state": {
            "_model_module": "@jupyter-widgets/controls",
            "_model_module_version": "1.5.0",
            "_model_name": "DescriptionStyleModel",
            "_view_count": null,
            "_view_module": "@jupyter-widgets/base",
            "_view_module_version": "1.2.0",
            "_view_name": "StyleView",
            "description_width": ""
          }
        },
        "39c4cf627fc44e6caa5e090821776955": {
          "model_module": "@jupyter-widgets/base",
          "model_name": "LayoutModel",
          "model_module_version": "1.2.0",
          "state": {
            "_model_module": "@jupyter-widgets/base",
            "_model_module_version": "1.2.0",
            "_model_name": "LayoutModel",
            "_view_count": null,
            "_view_module": "@jupyter-widgets/base",
            "_view_module_version": "1.2.0",
            "_view_name": "LayoutView",
            "align_content": null,
            "align_items": null,
            "align_self": null,
            "border": null,
            "bottom": null,
            "display": null,
            "flex": null,
            "flex_flow": null,
            "grid_area": null,
            "grid_auto_columns": null,
            "grid_auto_flow": null,
            "grid_auto_rows": null,
            "grid_column": null,
            "grid_gap": null,
            "grid_row": null,
            "grid_template_areas": null,
            "grid_template_columns": null,
            "grid_template_rows": null,
            "height": null,
            "justify_content": null,
            "justify_items": null,
            "left": null,
            "margin": null,
            "max_height": null,
            "max_width": null,
            "min_height": null,
            "min_width": null,
            "object_fit": null,
            "object_position": null,
            "order": null,
            "overflow": null,
            "overflow_x": null,
            "overflow_y": null,
            "padding": null,
            "right": null,
            "top": null,
            "visibility": null,
            "width": null
          }
        },
        "073cf5974d2e4ff2ba36ac809a9839e7": {
          "model_module": "@jupyter-widgets/controls",
          "model_name": "ProgressStyleModel",
          "model_module_version": "1.5.0",
          "state": {
            "_model_module": "@jupyter-widgets/controls",
            "_model_module_version": "1.5.0",
            "_model_name": "ProgressStyleModel",
            "_view_count": null,
            "_view_module": "@jupyter-widgets/base",
            "_view_module_version": "1.2.0",
            "_view_name": "StyleView",
            "bar_color": null,
            "description_width": ""
          }
        },
        "e5bbc1a6630e4ee0a2536ff840f7f4d8": {
          "model_module": "@jupyter-widgets/base",
          "model_name": "LayoutModel",
          "model_module_version": "1.2.0",
          "state": {
            "_model_module": "@jupyter-widgets/base",
            "_model_module_version": "1.2.0",
            "_model_name": "LayoutModel",
            "_view_count": null,
            "_view_module": "@jupyter-widgets/base",
            "_view_module_version": "1.2.0",
            "_view_name": "LayoutView",
            "align_content": null,
            "align_items": null,
            "align_self": null,
            "border": null,
            "bottom": null,
            "display": null,
            "flex": null,
            "flex_flow": null,
            "grid_area": null,
            "grid_auto_columns": null,
            "grid_auto_flow": null,
            "grid_auto_rows": null,
            "grid_column": null,
            "grid_gap": null,
            "grid_row": null,
            "grid_template_areas": null,
            "grid_template_columns": null,
            "grid_template_rows": null,
            "height": null,
            "justify_content": null,
            "justify_items": null,
            "left": null,
            "margin": null,
            "max_height": null,
            "max_width": null,
            "min_height": null,
            "min_width": null,
            "object_fit": null,
            "object_position": null,
            "order": null,
            "overflow": null,
            "overflow_x": null,
            "overflow_y": null,
            "padding": null,
            "right": null,
            "top": null,
            "visibility": null,
            "width": null
          }
        },
        "148144c8c28047179624dca6419da39a": {
          "model_module": "@jupyter-widgets/controls",
          "model_name": "DescriptionStyleModel",
          "model_module_version": "1.5.0",
          "state": {
            "_model_module": "@jupyter-widgets/controls",
            "_model_module_version": "1.5.0",
            "_model_name": "DescriptionStyleModel",
            "_view_count": null,
            "_view_module": "@jupyter-widgets/base",
            "_view_module_version": "1.2.0",
            "_view_name": "StyleView",
            "description_width": ""
          }
        },
        "20f0822d881340e3a545dde951587a10": {
          "model_module": "@jupyter-widgets/controls",
          "model_name": "HBoxModel",
          "model_module_version": "1.5.0",
          "state": {
            "_dom_classes": [],
            "_model_module": "@jupyter-widgets/controls",
            "_model_module_version": "1.5.0",
            "_model_name": "HBoxModel",
            "_view_count": null,
            "_view_module": "@jupyter-widgets/controls",
            "_view_module_version": "1.5.0",
            "_view_name": "HBoxView",
            "box_style": "",
            "children": [
              "IPY_MODEL_8b15942286ad466e94aee149e1af98db",
              "IPY_MODEL_92e8d36942fc417c82a865da0e6a140a",
              "IPY_MODEL_4f62b5d6c30f4bf388e6e5e66f63b891"
            ],
            "layout": "IPY_MODEL_516b551ccef14a8b8680967d1e92af34"
          }
        },
        "8b15942286ad466e94aee149e1af98db": {
          "model_module": "@jupyter-widgets/controls",
          "model_name": "HTMLModel",
          "model_module_version": "1.5.0",
          "state": {
            "_dom_classes": [],
            "_model_module": "@jupyter-widgets/controls",
            "_model_module_version": "1.5.0",
            "_model_name": "HTMLModel",
            "_view_count": null,
            "_view_module": "@jupyter-widgets/controls",
            "_view_module_version": "1.5.0",
            "_view_name": "HTMLView",
            "description": "",
            "description_tooltip": null,
            "layout": "IPY_MODEL_15071ba192ea4630901be69fdab5d2f6",
            "placeholder": "​",
            "style": "IPY_MODEL_ce69f826a31944e285f9aa59a96548f0",
            "value": "vocab.json: 100%"
          }
        },
        "92e8d36942fc417c82a865da0e6a140a": {
          "model_module": "@jupyter-widgets/controls",
          "model_name": "FloatProgressModel",
          "model_module_version": "1.5.0",
          "state": {
            "_dom_classes": [],
            "_model_module": "@jupyter-widgets/controls",
            "_model_module_version": "1.5.0",
            "_model_name": "FloatProgressModel",
            "_view_count": null,
            "_view_module": "@jupyter-widgets/controls",
            "_view_module_version": "1.5.0",
            "_view_name": "ProgressView",
            "bar_style": "success",
            "description": "",
            "description_tooltip": null,
            "layout": "IPY_MODEL_971a4e3403e742af81f6a5d974bc4bc7",
            "max": 1042301,
            "min": 0,
            "orientation": "horizontal",
            "style": "IPY_MODEL_5d1639b9410d4d69971f665607809303",
            "value": 1042301
          }
        },
        "4f62b5d6c30f4bf388e6e5e66f63b891": {
          "model_module": "@jupyter-widgets/controls",
          "model_name": "HTMLModel",
          "model_module_version": "1.5.0",
          "state": {
            "_dom_classes": [],
            "_model_module": "@jupyter-widgets/controls",
            "_model_module_version": "1.5.0",
            "_model_name": "HTMLModel",
            "_view_count": null,
            "_view_module": "@jupyter-widgets/controls",
            "_view_module_version": "1.5.0",
            "_view_name": "HTMLView",
            "description": "",
            "description_tooltip": null,
            "layout": "IPY_MODEL_495b9e2e40644de8814a17d8492f6421",
            "placeholder": "​",
            "style": "IPY_MODEL_490bf3f88f52467c882ba4edf016fb8a",
            "value": " 1.04M/1.04M [00:00&lt;00:00, 4.86MB/s]"
          }
        },
        "516b551ccef14a8b8680967d1e92af34": {
          "model_module": "@jupyter-widgets/base",
          "model_name": "LayoutModel",
          "model_module_version": "1.2.0",
          "state": {
            "_model_module": "@jupyter-widgets/base",
            "_model_module_version": "1.2.0",
            "_model_name": "LayoutModel",
            "_view_count": null,
            "_view_module": "@jupyter-widgets/base",
            "_view_module_version": "1.2.0",
            "_view_name": "LayoutView",
            "align_content": null,
            "align_items": null,
            "align_self": null,
            "border": null,
            "bottom": null,
            "display": null,
            "flex": null,
            "flex_flow": null,
            "grid_area": null,
            "grid_auto_columns": null,
            "grid_auto_flow": null,
            "grid_auto_rows": null,
            "grid_column": null,
            "grid_gap": null,
            "grid_row": null,
            "grid_template_areas": null,
            "grid_template_columns": null,
            "grid_template_rows": null,
            "height": null,
            "justify_content": null,
            "justify_items": null,
            "left": null,
            "margin": null,
            "max_height": null,
            "max_width": null,
            "min_height": null,
            "min_width": null,
            "object_fit": null,
            "object_position": null,
            "order": null,
            "overflow": null,
            "overflow_x": null,
            "overflow_y": null,
            "padding": null,
            "right": null,
            "top": null,
            "visibility": null,
            "width": null
          }
        },
        "15071ba192ea4630901be69fdab5d2f6": {
          "model_module": "@jupyter-widgets/base",
          "model_name": "LayoutModel",
          "model_module_version": "1.2.0",
          "state": {
            "_model_module": "@jupyter-widgets/base",
            "_model_module_version": "1.2.0",
            "_model_name": "LayoutModel",
            "_view_count": null,
            "_view_module": "@jupyter-widgets/base",
            "_view_module_version": "1.2.0",
            "_view_name": "LayoutView",
            "align_content": null,
            "align_items": null,
            "align_self": null,
            "border": null,
            "bottom": null,
            "display": null,
            "flex": null,
            "flex_flow": null,
            "grid_area": null,
            "grid_auto_columns": null,
            "grid_auto_flow": null,
            "grid_auto_rows": null,
            "grid_column": null,
            "grid_gap": null,
            "grid_row": null,
            "grid_template_areas": null,
            "grid_template_columns": null,
            "grid_template_rows": null,
            "height": null,
            "justify_content": null,
            "justify_items": null,
            "left": null,
            "margin": null,
            "max_height": null,
            "max_width": null,
            "min_height": null,
            "min_width": null,
            "object_fit": null,
            "object_position": null,
            "order": null,
            "overflow": null,
            "overflow_x": null,
            "overflow_y": null,
            "padding": null,
            "right": null,
            "top": null,
            "visibility": null,
            "width": null
          }
        },
        "ce69f826a31944e285f9aa59a96548f0": {
          "model_module": "@jupyter-widgets/controls",
          "model_name": "DescriptionStyleModel",
          "model_module_version": "1.5.0",
          "state": {
            "_model_module": "@jupyter-widgets/controls",
            "_model_module_version": "1.5.0",
            "_model_name": "DescriptionStyleModel",
            "_view_count": null,
            "_view_module": "@jupyter-widgets/base",
            "_view_module_version": "1.2.0",
            "_view_name": "StyleView",
            "description_width": ""
          }
        },
        "971a4e3403e742af81f6a5d974bc4bc7": {
          "model_module": "@jupyter-widgets/base",
          "model_name": "LayoutModel",
          "model_module_version": "1.2.0",
          "state": {
            "_model_module": "@jupyter-widgets/base",
            "_model_module_version": "1.2.0",
            "_model_name": "LayoutModel",
            "_view_count": null,
            "_view_module": "@jupyter-widgets/base",
            "_view_module_version": "1.2.0",
            "_view_name": "LayoutView",
            "align_content": null,
            "align_items": null,
            "align_self": null,
            "border": null,
            "bottom": null,
            "display": null,
            "flex": null,
            "flex_flow": null,
            "grid_area": null,
            "grid_auto_columns": null,
            "grid_auto_flow": null,
            "grid_auto_rows": null,
            "grid_column": null,
            "grid_gap": null,
            "grid_row": null,
            "grid_template_areas": null,
            "grid_template_columns": null,
            "grid_template_rows": null,
            "height": null,
            "justify_content": null,
            "justify_items": null,
            "left": null,
            "margin": null,
            "max_height": null,
            "max_width": null,
            "min_height": null,
            "min_width": null,
            "object_fit": null,
            "object_position": null,
            "order": null,
            "overflow": null,
            "overflow_x": null,
            "overflow_y": null,
            "padding": null,
            "right": null,
            "top": null,
            "visibility": null,
            "width": null
          }
        },
        "5d1639b9410d4d69971f665607809303": {
          "model_module": "@jupyter-widgets/controls",
          "model_name": "ProgressStyleModel",
          "model_module_version": "1.5.0",
          "state": {
            "_model_module": "@jupyter-widgets/controls",
            "_model_module_version": "1.5.0",
            "_model_name": "ProgressStyleModel",
            "_view_count": null,
            "_view_module": "@jupyter-widgets/base",
            "_view_module_version": "1.2.0",
            "_view_name": "StyleView",
            "bar_color": null,
            "description_width": ""
          }
        },
        "495b9e2e40644de8814a17d8492f6421": {
          "model_module": "@jupyter-widgets/base",
          "model_name": "LayoutModel",
          "model_module_version": "1.2.0",
          "state": {
            "_model_module": "@jupyter-widgets/base",
            "_model_module_version": "1.2.0",
            "_model_name": "LayoutModel",
            "_view_count": null,
            "_view_module": "@jupyter-widgets/base",
            "_view_module_version": "1.2.0",
            "_view_name": "LayoutView",
            "align_content": null,
            "align_items": null,
            "align_self": null,
            "border": null,
            "bottom": null,
            "display": null,
            "flex": null,
            "flex_flow": null,
            "grid_area": null,
            "grid_auto_columns": null,
            "grid_auto_flow": null,
            "grid_auto_rows": null,
            "grid_column": null,
            "grid_gap": null,
            "grid_row": null,
            "grid_template_areas": null,
            "grid_template_columns": null,
            "grid_template_rows": null,
            "height": null,
            "justify_content": null,
            "justify_items": null,
            "left": null,
            "margin": null,
            "max_height": null,
            "max_width": null,
            "min_height": null,
            "min_width": null,
            "object_fit": null,
            "object_position": null,
            "order": null,
            "overflow": null,
            "overflow_x": null,
            "overflow_y": null,
            "padding": null,
            "right": null,
            "top": null,
            "visibility": null,
            "width": null
          }
        },
        "490bf3f88f52467c882ba4edf016fb8a": {
          "model_module": "@jupyter-widgets/controls",
          "model_name": "DescriptionStyleModel",
          "model_module_version": "1.5.0",
          "state": {
            "_model_module": "@jupyter-widgets/controls",
            "_model_module_version": "1.5.0",
            "_model_name": "DescriptionStyleModel",
            "_view_count": null,
            "_view_module": "@jupyter-widgets/base",
            "_view_module_version": "1.2.0",
            "_view_name": "StyleView",
            "description_width": ""
          }
        },
        "80e8c8672f5c4662b14ccdb8dcd1464a": {
          "model_module": "@jupyter-widgets/controls",
          "model_name": "HBoxModel",
          "model_module_version": "1.5.0",
          "state": {
            "_dom_classes": [],
            "_model_module": "@jupyter-widgets/controls",
            "_model_module_version": "1.5.0",
            "_model_name": "HBoxModel",
            "_view_count": null,
            "_view_module": "@jupyter-widgets/controls",
            "_view_module_version": "1.5.0",
            "_view_name": "HBoxView",
            "box_style": "",
            "children": [
              "IPY_MODEL_0ca03fc0bbe8410b8a1da0e9300dbfac",
              "IPY_MODEL_e31361b20e6f49eebbf5dc87ce061bb4",
              "IPY_MODEL_6a4fae77ebb747528395013eb6940b93"
            ],
            "layout": "IPY_MODEL_6f80bb3a0f1043ed818d837707c950ef"
          }
        },
        "0ca03fc0bbe8410b8a1da0e9300dbfac": {
          "model_module": "@jupyter-widgets/controls",
          "model_name": "HTMLModel",
          "model_module_version": "1.5.0",
          "state": {
            "_dom_classes": [],
            "_model_module": "@jupyter-widgets/controls",
            "_model_module_version": "1.5.0",
            "_model_name": "HTMLModel",
            "_view_count": null,
            "_view_module": "@jupyter-widgets/controls",
            "_view_module_version": "1.5.0",
            "_view_name": "HTMLView",
            "description": "",
            "description_tooltip": null,
            "layout": "IPY_MODEL_95bb8f902a6648169a7abfefb446814a",
            "placeholder": "​",
            "style": "IPY_MODEL_32b0dc437b0a4ff9a78822550878168f",
            "value": "merges.txt: 100%"
          }
        },
        "e31361b20e6f49eebbf5dc87ce061bb4": {
          "model_module": "@jupyter-widgets/controls",
          "model_name": "FloatProgressModel",
          "model_module_version": "1.5.0",
          "state": {
            "_dom_classes": [],
            "_model_module": "@jupyter-widgets/controls",
            "_model_module_version": "1.5.0",
            "_model_name": "FloatProgressModel",
            "_view_count": null,
            "_view_module": "@jupyter-widgets/controls",
            "_view_module_version": "1.5.0",
            "_view_name": "ProgressView",
            "bar_style": "success",
            "description": "",
            "description_tooltip": null,
            "layout": "IPY_MODEL_0bdc8a325fed4fe08037cf7ad083248c",
            "max": 456318,
            "min": 0,
            "orientation": "horizontal",
            "style": "IPY_MODEL_effface4e47f4d9d8776dbb397693348",
            "value": 456318
          }
        },
        "6a4fae77ebb747528395013eb6940b93": {
          "model_module": "@jupyter-widgets/controls",
          "model_name": "HTMLModel",
          "model_module_version": "1.5.0",
          "state": {
            "_dom_classes": [],
            "_model_module": "@jupyter-widgets/controls",
            "_model_module_version": "1.5.0",
            "_model_name": "HTMLModel",
            "_view_count": null,
            "_view_module": "@jupyter-widgets/controls",
            "_view_module_version": "1.5.0",
            "_view_name": "HTMLView",
            "description": "",
            "description_tooltip": null,
            "layout": "IPY_MODEL_f779f6626547465aaa19bcd0c63c2f9d",
            "placeholder": "​",
            "style": "IPY_MODEL_ef7b2ae538254d1d8011e429741d433f",
            "value": " 456k/456k [00:00&lt;00:00, 16.9MB/s]"
          }
        },
        "6f80bb3a0f1043ed818d837707c950ef": {
          "model_module": "@jupyter-widgets/base",
          "model_name": "LayoutModel",
          "model_module_version": "1.2.0",
          "state": {
            "_model_module": "@jupyter-widgets/base",
            "_model_module_version": "1.2.0",
            "_model_name": "LayoutModel",
            "_view_count": null,
            "_view_module": "@jupyter-widgets/base",
            "_view_module_version": "1.2.0",
            "_view_name": "LayoutView",
            "align_content": null,
            "align_items": null,
            "align_self": null,
            "border": null,
            "bottom": null,
            "display": null,
            "flex": null,
            "flex_flow": null,
            "grid_area": null,
            "grid_auto_columns": null,
            "grid_auto_flow": null,
            "grid_auto_rows": null,
            "grid_column": null,
            "grid_gap": null,
            "grid_row": null,
            "grid_template_areas": null,
            "grid_template_columns": null,
            "grid_template_rows": null,
            "height": null,
            "justify_content": null,
            "justify_items": null,
            "left": null,
            "margin": null,
            "max_height": null,
            "max_width": null,
            "min_height": null,
            "min_width": null,
            "object_fit": null,
            "object_position": null,
            "order": null,
            "overflow": null,
            "overflow_x": null,
            "overflow_y": null,
            "padding": null,
            "right": null,
            "top": null,
            "visibility": null,
            "width": null
          }
        },
        "95bb8f902a6648169a7abfefb446814a": {
          "model_module": "@jupyter-widgets/base",
          "model_name": "LayoutModel",
          "model_module_version": "1.2.0",
          "state": {
            "_model_module": "@jupyter-widgets/base",
            "_model_module_version": "1.2.0",
            "_model_name": "LayoutModel",
            "_view_count": null,
            "_view_module": "@jupyter-widgets/base",
            "_view_module_version": "1.2.0",
            "_view_name": "LayoutView",
            "align_content": null,
            "align_items": null,
            "align_self": null,
            "border": null,
            "bottom": null,
            "display": null,
            "flex": null,
            "flex_flow": null,
            "grid_area": null,
            "grid_auto_columns": null,
            "grid_auto_flow": null,
            "grid_auto_rows": null,
            "grid_column": null,
            "grid_gap": null,
            "grid_row": null,
            "grid_template_areas": null,
            "grid_template_columns": null,
            "grid_template_rows": null,
            "height": null,
            "justify_content": null,
            "justify_items": null,
            "left": null,
            "margin": null,
            "max_height": null,
            "max_width": null,
            "min_height": null,
            "min_width": null,
            "object_fit": null,
            "object_position": null,
            "order": null,
            "overflow": null,
            "overflow_x": null,
            "overflow_y": null,
            "padding": null,
            "right": null,
            "top": null,
            "visibility": null,
            "width": null
          }
        },
        "32b0dc437b0a4ff9a78822550878168f": {
          "model_module": "@jupyter-widgets/controls",
          "model_name": "DescriptionStyleModel",
          "model_module_version": "1.5.0",
          "state": {
            "_model_module": "@jupyter-widgets/controls",
            "_model_module_version": "1.5.0",
            "_model_name": "DescriptionStyleModel",
            "_view_count": null,
            "_view_module": "@jupyter-widgets/base",
            "_view_module_version": "1.2.0",
            "_view_name": "StyleView",
            "description_width": ""
          }
        },
        "0bdc8a325fed4fe08037cf7ad083248c": {
          "model_module": "@jupyter-widgets/base",
          "model_name": "LayoutModel",
          "model_module_version": "1.2.0",
          "state": {
            "_model_module": "@jupyter-widgets/base",
            "_model_module_version": "1.2.0",
            "_model_name": "LayoutModel",
            "_view_count": null,
            "_view_module": "@jupyter-widgets/base",
            "_view_module_version": "1.2.0",
            "_view_name": "LayoutView",
            "align_content": null,
            "align_items": null,
            "align_self": null,
            "border": null,
            "bottom": null,
            "display": null,
            "flex": null,
            "flex_flow": null,
            "grid_area": null,
            "grid_auto_columns": null,
            "grid_auto_flow": null,
            "grid_auto_rows": null,
            "grid_column": null,
            "grid_gap": null,
            "grid_row": null,
            "grid_template_areas": null,
            "grid_template_columns": null,
            "grid_template_rows": null,
            "height": null,
            "justify_content": null,
            "justify_items": null,
            "left": null,
            "margin": null,
            "max_height": null,
            "max_width": null,
            "min_height": null,
            "min_width": null,
            "object_fit": null,
            "object_position": null,
            "order": null,
            "overflow": null,
            "overflow_x": null,
            "overflow_y": null,
            "padding": null,
            "right": null,
            "top": null,
            "visibility": null,
            "width": null
          }
        },
        "effface4e47f4d9d8776dbb397693348": {
          "model_module": "@jupyter-widgets/controls",
          "model_name": "ProgressStyleModel",
          "model_module_version": "1.5.0",
          "state": {
            "_model_module": "@jupyter-widgets/controls",
            "_model_module_version": "1.5.0",
            "_model_name": "ProgressStyleModel",
            "_view_count": null,
            "_view_module": "@jupyter-widgets/base",
            "_view_module_version": "1.2.0",
            "_view_name": "StyleView",
            "bar_color": null,
            "description_width": ""
          }
        },
        "f779f6626547465aaa19bcd0c63c2f9d": {
          "model_module": "@jupyter-widgets/base",
          "model_name": "LayoutModel",
          "model_module_version": "1.2.0",
          "state": {
            "_model_module": "@jupyter-widgets/base",
            "_model_module_version": "1.2.0",
            "_model_name": "LayoutModel",
            "_view_count": null,
            "_view_module": "@jupyter-widgets/base",
            "_view_module_version": "1.2.0",
            "_view_name": "LayoutView",
            "align_content": null,
            "align_items": null,
            "align_self": null,
            "border": null,
            "bottom": null,
            "display": null,
            "flex": null,
            "flex_flow": null,
            "grid_area": null,
            "grid_auto_columns": null,
            "grid_auto_flow": null,
            "grid_auto_rows": null,
            "grid_column": null,
            "grid_gap": null,
            "grid_row": null,
            "grid_template_areas": null,
            "grid_template_columns": null,
            "grid_template_rows": null,
            "height": null,
            "justify_content": null,
            "justify_items": null,
            "left": null,
            "margin": null,
            "max_height": null,
            "max_width": null,
            "min_height": null,
            "min_width": null,
            "object_fit": null,
            "object_position": null,
            "order": null,
            "overflow": null,
            "overflow_x": null,
            "overflow_y": null,
            "padding": null,
            "right": null,
            "top": null,
            "visibility": null,
            "width": null
          }
        },
        "ef7b2ae538254d1d8011e429741d433f": {
          "model_module": "@jupyter-widgets/controls",
          "model_name": "DescriptionStyleModel",
          "model_module_version": "1.5.0",
          "state": {
            "_model_module": "@jupyter-widgets/controls",
            "_model_module_version": "1.5.0",
            "_model_name": "DescriptionStyleModel",
            "_view_count": null,
            "_view_module": "@jupyter-widgets/base",
            "_view_module_version": "1.2.0",
            "_view_name": "StyleView",
            "description_width": ""
          }
        },
        "f6dd09e1d0624990859a0d71f0b72031": {
          "model_module": "@jupyter-widgets/controls",
          "model_name": "HBoxModel",
          "model_module_version": "1.5.0",
          "state": {
            "_dom_classes": [],
            "_model_module": "@jupyter-widgets/controls",
            "_model_module_version": "1.5.0",
            "_model_name": "HBoxModel",
            "_view_count": null,
            "_view_module": "@jupyter-widgets/controls",
            "_view_module_version": "1.5.0",
            "_view_name": "HBoxView",
            "box_style": "",
            "children": [
              "IPY_MODEL_21ddd506af314e08be447fcd2f3c080b",
              "IPY_MODEL_f1cc77385c40428bace450058599340d",
              "IPY_MODEL_878e2cd509f2434096b20f92fb8c2104"
            ],
            "layout": "IPY_MODEL_09deeef840c64a928ce3d7fa07fabc7d"
          }
        },
        "21ddd506af314e08be447fcd2f3c080b": {
          "model_module": "@jupyter-widgets/controls",
          "model_name": "HTMLModel",
          "model_module_version": "1.5.0",
          "state": {
            "_dom_classes": [],
            "_model_module": "@jupyter-widgets/controls",
            "_model_module_version": "1.5.0",
            "_model_name": "HTMLModel",
            "_view_count": null,
            "_view_module": "@jupyter-widgets/controls",
            "_view_module_version": "1.5.0",
            "_view_name": "HTMLView",
            "description": "",
            "description_tooltip": null,
            "layout": "IPY_MODEL_d2e9a4b3505b4ed9a2657f6750ec1217",
            "placeholder": "​",
            "style": "IPY_MODEL_f078df31f993403cbae8eddda01f3d01",
            "value": "tokenizer.json: 100%"
          }
        },
        "f1cc77385c40428bace450058599340d": {
          "model_module": "@jupyter-widgets/controls",
          "model_name": "FloatProgressModel",
          "model_module_version": "1.5.0",
          "state": {
            "_dom_classes": [],
            "_model_module": "@jupyter-widgets/controls",
            "_model_module_version": "1.5.0",
            "_model_name": "FloatProgressModel",
            "_view_count": null,
            "_view_module": "@jupyter-widgets/controls",
            "_view_module_version": "1.5.0",
            "_view_name": "ProgressView",
            "bar_style": "success",
            "description": "",
            "description_tooltip": null,
            "layout": "IPY_MODEL_44a84331aaeb49b5b535d7189ac6a1d6",
            "max": 1355256,
            "min": 0,
            "orientation": "horizontal",
            "style": "IPY_MODEL_bcac3dddda8b4aa7a30c28acbbf98cb2",
            "value": 1355256
          }
        },
        "878e2cd509f2434096b20f92fb8c2104": {
          "model_module": "@jupyter-widgets/controls",
          "model_name": "HTMLModel",
          "model_module_version": "1.5.0",
          "state": {
            "_dom_classes": [],
            "_model_module": "@jupyter-widgets/controls",
            "_model_module_version": "1.5.0",
            "_model_name": "HTMLModel",
            "_view_count": null,
            "_view_module": "@jupyter-widgets/controls",
            "_view_module_version": "1.5.0",
            "_view_name": "HTMLView",
            "description": "",
            "description_tooltip": null,
            "layout": "IPY_MODEL_a663b2c14269432da153ec2b7c637a74",
            "placeholder": "​",
            "style": "IPY_MODEL_8e812a9244674d3d963d9b3dee313a25",
            "value": " 1.36M/1.36M [00:00&lt;00:00, 27.6MB/s]"
          }
        },
        "09deeef840c64a928ce3d7fa07fabc7d": {
          "model_module": "@jupyter-widgets/base",
          "model_name": "LayoutModel",
          "model_module_version": "1.2.0",
          "state": {
            "_model_module": "@jupyter-widgets/base",
            "_model_module_version": "1.2.0",
            "_model_name": "LayoutModel",
            "_view_count": null,
            "_view_module": "@jupyter-widgets/base",
            "_view_module_version": "1.2.0",
            "_view_name": "LayoutView",
            "align_content": null,
            "align_items": null,
            "align_self": null,
            "border": null,
            "bottom": null,
            "display": null,
            "flex": null,
            "flex_flow": null,
            "grid_area": null,
            "grid_auto_columns": null,
            "grid_auto_flow": null,
            "grid_auto_rows": null,
            "grid_column": null,
            "grid_gap": null,
            "grid_row": null,
            "grid_template_areas": null,
            "grid_template_columns": null,
            "grid_template_rows": null,
            "height": null,
            "justify_content": null,
            "justify_items": null,
            "left": null,
            "margin": null,
            "max_height": null,
            "max_width": null,
            "min_height": null,
            "min_width": null,
            "object_fit": null,
            "object_position": null,
            "order": null,
            "overflow": null,
            "overflow_x": null,
            "overflow_y": null,
            "padding": null,
            "right": null,
            "top": null,
            "visibility": null,
            "width": null
          }
        },
        "d2e9a4b3505b4ed9a2657f6750ec1217": {
          "model_module": "@jupyter-widgets/base",
          "model_name": "LayoutModel",
          "model_module_version": "1.2.0",
          "state": {
            "_model_module": "@jupyter-widgets/base",
            "_model_module_version": "1.2.0",
            "_model_name": "LayoutModel",
            "_view_count": null,
            "_view_module": "@jupyter-widgets/base",
            "_view_module_version": "1.2.0",
            "_view_name": "LayoutView",
            "align_content": null,
            "align_items": null,
            "align_self": null,
            "border": null,
            "bottom": null,
            "display": null,
            "flex": null,
            "flex_flow": null,
            "grid_area": null,
            "grid_auto_columns": null,
            "grid_auto_flow": null,
            "grid_auto_rows": null,
            "grid_column": null,
            "grid_gap": null,
            "grid_row": null,
            "grid_template_areas": null,
            "grid_template_columns": null,
            "grid_template_rows": null,
            "height": null,
            "justify_content": null,
            "justify_items": null,
            "left": null,
            "margin": null,
            "max_height": null,
            "max_width": null,
            "min_height": null,
            "min_width": null,
            "object_fit": null,
            "object_position": null,
            "order": null,
            "overflow": null,
            "overflow_x": null,
            "overflow_y": null,
            "padding": null,
            "right": null,
            "top": null,
            "visibility": null,
            "width": null
          }
        },
        "f078df31f993403cbae8eddda01f3d01": {
          "model_module": "@jupyter-widgets/controls",
          "model_name": "DescriptionStyleModel",
          "model_module_version": "1.5.0",
          "state": {
            "_model_module": "@jupyter-widgets/controls",
            "_model_module_version": "1.5.0",
            "_model_name": "DescriptionStyleModel",
            "_view_count": null,
            "_view_module": "@jupyter-widgets/base",
            "_view_module_version": "1.2.0",
            "_view_name": "StyleView",
            "description_width": ""
          }
        },
        "44a84331aaeb49b5b535d7189ac6a1d6": {
          "model_module": "@jupyter-widgets/base",
          "model_name": "LayoutModel",
          "model_module_version": "1.2.0",
          "state": {
            "_model_module": "@jupyter-widgets/base",
            "_model_module_version": "1.2.0",
            "_model_name": "LayoutModel",
            "_view_count": null,
            "_view_module": "@jupyter-widgets/base",
            "_view_module_version": "1.2.0",
            "_view_name": "LayoutView",
            "align_content": null,
            "align_items": null,
            "align_self": null,
            "border": null,
            "bottom": null,
            "display": null,
            "flex": null,
            "flex_flow": null,
            "grid_area": null,
            "grid_auto_columns": null,
            "grid_auto_flow": null,
            "grid_auto_rows": null,
            "grid_column": null,
            "grid_gap": null,
            "grid_row": null,
            "grid_template_areas": null,
            "grid_template_columns": null,
            "grid_template_rows": null,
            "height": null,
            "justify_content": null,
            "justify_items": null,
            "left": null,
            "margin": null,
            "max_height": null,
            "max_width": null,
            "min_height": null,
            "min_width": null,
            "object_fit": null,
            "object_position": null,
            "order": null,
            "overflow": null,
            "overflow_x": null,
            "overflow_y": null,
            "padding": null,
            "right": null,
            "top": null,
            "visibility": null,
            "width": null
          }
        },
        "bcac3dddda8b4aa7a30c28acbbf98cb2": {
          "model_module": "@jupyter-widgets/controls",
          "model_name": "ProgressStyleModel",
          "model_module_version": "1.5.0",
          "state": {
            "_model_module": "@jupyter-widgets/controls",
            "_model_module_version": "1.5.0",
            "_model_name": "ProgressStyleModel",
            "_view_count": null,
            "_view_module": "@jupyter-widgets/base",
            "_view_module_version": "1.2.0",
            "_view_name": "StyleView",
            "bar_color": null,
            "description_width": ""
          }
        },
        "a663b2c14269432da153ec2b7c637a74": {
          "model_module": "@jupyter-widgets/base",
          "model_name": "LayoutModel",
          "model_module_version": "1.2.0",
          "state": {
            "_model_module": "@jupyter-widgets/base",
            "_model_module_version": "1.2.0",
            "_model_name": "LayoutModel",
            "_view_count": null,
            "_view_module": "@jupyter-widgets/base",
            "_view_module_version": "1.2.0",
            "_view_name": "LayoutView",
            "align_content": null,
            "align_items": null,
            "align_self": null,
            "border": null,
            "bottom": null,
            "display": null,
            "flex": null,
            "flex_flow": null,
            "grid_area": null,
            "grid_auto_columns": null,
            "grid_auto_flow": null,
            "grid_auto_rows": null,
            "grid_column": null,
            "grid_gap": null,
            "grid_row": null,
            "grid_template_areas": null,
            "grid_template_columns": null,
            "grid_template_rows": null,
            "height": null,
            "justify_content": null,
            "justify_items": null,
            "left": null,
            "margin": null,
            "max_height": null,
            "max_width": null,
            "min_height": null,
            "min_width": null,
            "object_fit": null,
            "object_position": null,
            "order": null,
            "overflow": null,
            "overflow_x": null,
            "overflow_y": null,
            "padding": null,
            "right": null,
            "top": null,
            "visibility": null,
            "width": null
          }
        },
        "8e812a9244674d3d963d9b3dee313a25": {
          "model_module": "@jupyter-widgets/controls",
          "model_name": "DescriptionStyleModel",
          "model_module_version": "1.5.0",
          "state": {
            "_model_module": "@jupyter-widgets/controls",
            "_model_module_version": "1.5.0",
            "_model_name": "DescriptionStyleModel",
            "_view_count": null,
            "_view_module": "@jupyter-widgets/base",
            "_view_module_version": "1.2.0",
            "_view_name": "StyleView",
            "description_width": ""
          }
        },
        "8ae8740f74ed4ae2a03b8c888416068f": {
          "model_module": "@jupyter-widgets/controls",
          "model_name": "HBoxModel",
          "model_module_version": "1.5.0",
          "state": {
            "_dom_classes": [],
            "_model_module": "@jupyter-widgets/controls",
            "_model_module_version": "1.5.0",
            "_model_name": "HBoxModel",
            "_view_count": null,
            "_view_module": "@jupyter-widgets/controls",
            "_view_module_version": "1.5.0",
            "_view_name": "HBoxView",
            "box_style": "",
            "children": [
              "IPY_MODEL_ad210d209a444b4faa40b57cb502034c",
              "IPY_MODEL_93e0e3d377164c25adffbbfe58000b76",
              "IPY_MODEL_2c027c449f9046d1af93c1eabf83e914"
            ],
            "layout": "IPY_MODEL_26af8e8864ec4cd4984aa750c2fd0106"
          }
        },
        "ad210d209a444b4faa40b57cb502034c": {
          "model_module": "@jupyter-widgets/controls",
          "model_name": "HTMLModel",
          "model_module_version": "1.5.0",
          "state": {
            "_dom_classes": [],
            "_model_module": "@jupyter-widgets/controls",
            "_model_module_version": "1.5.0",
            "_model_name": "HTMLModel",
            "_view_count": null,
            "_view_module": "@jupyter-widgets/controls",
            "_view_module_version": "1.5.0",
            "_view_name": "HTMLView",
            "description": "",
            "description_tooltip": null,
            "layout": "IPY_MODEL_aaa6b2a2ae09479a85282d655f645cea",
            "placeholder": "​",
            "style": "IPY_MODEL_e9e3a25735f84b778e3774d0e8f810ae",
            "value": "config.json: 100%"
          }
        },
        "93e0e3d377164c25adffbbfe58000b76": {
          "model_module": "@jupyter-widgets/controls",
          "model_name": "FloatProgressModel",
          "model_module_version": "1.5.0",
          "state": {
            "_dom_classes": [],
            "_model_module": "@jupyter-widgets/controls",
            "_model_module_version": "1.5.0",
            "_model_name": "FloatProgressModel",
            "_view_count": null,
            "_view_module": "@jupyter-widgets/controls",
            "_view_module_version": "1.5.0",
            "_view_name": "ProgressView",
            "bar_style": "success",
            "description": "",
            "description_tooltip": null,
            "layout": "IPY_MODEL_3cc20a9b77df478798064e8aa7b434cc",
            "max": 665,
            "min": 0,
            "orientation": "horizontal",
            "style": "IPY_MODEL_a361e1345ca3458a93eca478cace3b43",
            "value": 665
          }
        },
        "2c027c449f9046d1af93c1eabf83e914": {
          "model_module": "@jupyter-widgets/controls",
          "model_name": "HTMLModel",
          "model_module_version": "1.5.0",
          "state": {
            "_dom_classes": [],
            "_model_module": "@jupyter-widgets/controls",
            "_model_module_version": "1.5.0",
            "_model_name": "HTMLModel",
            "_view_count": null,
            "_view_module": "@jupyter-widgets/controls",
            "_view_module_version": "1.5.0",
            "_view_name": "HTMLView",
            "description": "",
            "description_tooltip": null,
            "layout": "IPY_MODEL_52e188e6f9ee487aa147b72ce0362691",
            "placeholder": "​",
            "style": "IPY_MODEL_fd44d15a9b0b464e8fb6c411d0b449b1",
            "value": " 665/665 [00:00&lt;00:00, 40.2kB/s]"
          }
        },
        "26af8e8864ec4cd4984aa750c2fd0106": {
          "model_module": "@jupyter-widgets/base",
          "model_name": "LayoutModel",
          "model_module_version": "1.2.0",
          "state": {
            "_model_module": "@jupyter-widgets/base",
            "_model_module_version": "1.2.0",
            "_model_name": "LayoutModel",
            "_view_count": null,
            "_view_module": "@jupyter-widgets/base",
            "_view_module_version": "1.2.0",
            "_view_name": "LayoutView",
            "align_content": null,
            "align_items": null,
            "align_self": null,
            "border": null,
            "bottom": null,
            "display": null,
            "flex": null,
            "flex_flow": null,
            "grid_area": null,
            "grid_auto_columns": null,
            "grid_auto_flow": null,
            "grid_auto_rows": null,
            "grid_column": null,
            "grid_gap": null,
            "grid_row": null,
            "grid_template_areas": null,
            "grid_template_columns": null,
            "grid_template_rows": null,
            "height": null,
            "justify_content": null,
            "justify_items": null,
            "left": null,
            "margin": null,
            "max_height": null,
            "max_width": null,
            "min_height": null,
            "min_width": null,
            "object_fit": null,
            "object_position": null,
            "order": null,
            "overflow": null,
            "overflow_x": null,
            "overflow_y": null,
            "padding": null,
            "right": null,
            "top": null,
            "visibility": null,
            "width": null
          }
        },
        "aaa6b2a2ae09479a85282d655f645cea": {
          "model_module": "@jupyter-widgets/base",
          "model_name": "LayoutModel",
          "model_module_version": "1.2.0",
          "state": {
            "_model_module": "@jupyter-widgets/base",
            "_model_module_version": "1.2.0",
            "_model_name": "LayoutModel",
            "_view_count": null,
            "_view_module": "@jupyter-widgets/base",
            "_view_module_version": "1.2.0",
            "_view_name": "LayoutView",
            "align_content": null,
            "align_items": null,
            "align_self": null,
            "border": null,
            "bottom": null,
            "display": null,
            "flex": null,
            "flex_flow": null,
            "grid_area": null,
            "grid_auto_columns": null,
            "grid_auto_flow": null,
            "grid_auto_rows": null,
            "grid_column": null,
            "grid_gap": null,
            "grid_row": null,
            "grid_template_areas": null,
            "grid_template_columns": null,
            "grid_template_rows": null,
            "height": null,
            "justify_content": null,
            "justify_items": null,
            "left": null,
            "margin": null,
            "max_height": null,
            "max_width": null,
            "min_height": null,
            "min_width": null,
            "object_fit": null,
            "object_position": null,
            "order": null,
            "overflow": null,
            "overflow_x": null,
            "overflow_y": null,
            "padding": null,
            "right": null,
            "top": null,
            "visibility": null,
            "width": null
          }
        },
        "e9e3a25735f84b778e3774d0e8f810ae": {
          "model_module": "@jupyter-widgets/controls",
          "model_name": "DescriptionStyleModel",
          "model_module_version": "1.5.0",
          "state": {
            "_model_module": "@jupyter-widgets/controls",
            "_model_module_version": "1.5.0",
            "_model_name": "DescriptionStyleModel",
            "_view_count": null,
            "_view_module": "@jupyter-widgets/base",
            "_view_module_version": "1.2.0",
            "_view_name": "StyleView",
            "description_width": ""
          }
        },
        "3cc20a9b77df478798064e8aa7b434cc": {
          "model_module": "@jupyter-widgets/base",
          "model_name": "LayoutModel",
          "model_module_version": "1.2.0",
          "state": {
            "_model_module": "@jupyter-widgets/base",
            "_model_module_version": "1.2.0",
            "_model_name": "LayoutModel",
            "_view_count": null,
            "_view_module": "@jupyter-widgets/base",
            "_view_module_version": "1.2.0",
            "_view_name": "LayoutView",
            "align_content": null,
            "align_items": null,
            "align_self": null,
            "border": null,
            "bottom": null,
            "display": null,
            "flex": null,
            "flex_flow": null,
            "grid_area": null,
            "grid_auto_columns": null,
            "grid_auto_flow": null,
            "grid_auto_rows": null,
            "grid_column": null,
            "grid_gap": null,
            "grid_row": null,
            "grid_template_areas": null,
            "grid_template_columns": null,
            "grid_template_rows": null,
            "height": null,
            "justify_content": null,
            "justify_items": null,
            "left": null,
            "margin": null,
            "max_height": null,
            "max_width": null,
            "min_height": null,
            "min_width": null,
            "object_fit": null,
            "object_position": null,
            "order": null,
            "overflow": null,
            "overflow_x": null,
            "overflow_y": null,
            "padding": null,
            "right": null,
            "top": null,
            "visibility": null,
            "width": null
          }
        },
        "a361e1345ca3458a93eca478cace3b43": {
          "model_module": "@jupyter-widgets/controls",
          "model_name": "ProgressStyleModel",
          "model_module_version": "1.5.0",
          "state": {
            "_model_module": "@jupyter-widgets/controls",
            "_model_module_version": "1.5.0",
            "_model_name": "ProgressStyleModel",
            "_view_count": null,
            "_view_module": "@jupyter-widgets/base",
            "_view_module_version": "1.2.0",
            "_view_name": "StyleView",
            "bar_color": null,
            "description_width": ""
          }
        },
        "52e188e6f9ee487aa147b72ce0362691": {
          "model_module": "@jupyter-widgets/base",
          "model_name": "LayoutModel",
          "model_module_version": "1.2.0",
          "state": {
            "_model_module": "@jupyter-widgets/base",
            "_model_module_version": "1.2.0",
            "_model_name": "LayoutModel",
            "_view_count": null,
            "_view_module": "@jupyter-widgets/base",
            "_view_module_version": "1.2.0",
            "_view_name": "LayoutView",
            "align_content": null,
            "align_items": null,
            "align_self": null,
            "border": null,
            "bottom": null,
            "display": null,
            "flex": null,
            "flex_flow": null,
            "grid_area": null,
            "grid_auto_columns": null,
            "grid_auto_flow": null,
            "grid_auto_rows": null,
            "grid_column": null,
            "grid_gap": null,
            "grid_row": null,
            "grid_template_areas": null,
            "grid_template_columns": null,
            "grid_template_rows": null,
            "height": null,
            "justify_content": null,
            "justify_items": null,
            "left": null,
            "margin": null,
            "max_height": null,
            "max_width": null,
            "min_height": null,
            "min_width": null,
            "object_fit": null,
            "object_position": null,
            "order": null,
            "overflow": null,
            "overflow_x": null,
            "overflow_y": null,
            "padding": null,
            "right": null,
            "top": null,
            "visibility": null,
            "width": null
          }
        },
        "fd44d15a9b0b464e8fb6c411d0b449b1": {
          "model_module": "@jupyter-widgets/controls",
          "model_name": "DescriptionStyleModel",
          "model_module_version": "1.5.0",
          "state": {
            "_model_module": "@jupyter-widgets/controls",
            "_model_module_version": "1.5.0",
            "_model_name": "DescriptionStyleModel",
            "_view_count": null,
            "_view_module": "@jupyter-widgets/base",
            "_view_module_version": "1.2.0",
            "_view_name": "StyleView",
            "description_width": ""
          }
        },
        "daf67620d23a4aea937a00649303512e": {
          "model_module": "@jupyter-widgets/controls",
          "model_name": "HBoxModel",
          "model_module_version": "1.5.0",
          "state": {
            "_dom_classes": [],
            "_model_module": "@jupyter-widgets/controls",
            "_model_module_version": "1.5.0",
            "_model_name": "HBoxModel",
            "_view_count": null,
            "_view_module": "@jupyter-widgets/controls",
            "_view_module_version": "1.5.0",
            "_view_name": "HBoxView",
            "box_style": "",
            "children": [
              "IPY_MODEL_37f5cd9ff84241eabd9a2dcb14a3f178",
              "IPY_MODEL_ea20f345307746febc25509b0a46e9ea",
              "IPY_MODEL_66da3ac6006a451e8e2880c20291ac45"
            ],
            "layout": "IPY_MODEL_953fc5ae526f41a4912b47247bbdcbd9"
          }
        },
        "37f5cd9ff84241eabd9a2dcb14a3f178": {
          "model_module": "@jupyter-widgets/controls",
          "model_name": "HTMLModel",
          "model_module_version": "1.5.0",
          "state": {
            "_dom_classes": [],
            "_model_module": "@jupyter-widgets/controls",
            "_model_module_version": "1.5.0",
            "_model_name": "HTMLModel",
            "_view_count": null,
            "_view_module": "@jupyter-widgets/controls",
            "_view_module_version": "1.5.0",
            "_view_name": "HTMLView",
            "description": "",
            "description_tooltip": null,
            "layout": "IPY_MODEL_ca1d745d4db44d9ebfe50496ec8ccd1a",
            "placeholder": "​",
            "style": "IPY_MODEL_1f174b32576c490ca764de2a61baa0e5",
            "value": "model.safetensors: 100%"
          }
        },
        "ea20f345307746febc25509b0a46e9ea": {
          "model_module": "@jupyter-widgets/controls",
          "model_name": "FloatProgressModel",
          "model_module_version": "1.5.0",
          "state": {
            "_dom_classes": [],
            "_model_module": "@jupyter-widgets/controls",
            "_model_module_version": "1.5.0",
            "_model_name": "FloatProgressModel",
            "_view_count": null,
            "_view_module": "@jupyter-widgets/controls",
            "_view_module_version": "1.5.0",
            "_view_name": "ProgressView",
            "bar_style": "success",
            "description": "",
            "description_tooltip": null,
            "layout": "IPY_MODEL_7f16989fa7df4a1da841d8b99cdcef2c",
            "max": 548105171,
            "min": 0,
            "orientation": "horizontal",
            "style": "IPY_MODEL_fb13acaf8fa54a8d9dc673263047942a",
            "value": 548105171
          }
        },
        "66da3ac6006a451e8e2880c20291ac45": {
          "model_module": "@jupyter-widgets/controls",
          "model_name": "HTMLModel",
          "model_module_version": "1.5.0",
          "state": {
            "_dom_classes": [],
            "_model_module": "@jupyter-widgets/controls",
            "_model_module_version": "1.5.0",
            "_model_name": "HTMLModel",
            "_view_count": null,
            "_view_module": "@jupyter-widgets/controls",
            "_view_module_version": "1.5.0",
            "_view_name": "HTMLView",
            "description": "",
            "description_tooltip": null,
            "layout": "IPY_MODEL_2696f4a2a56d4527836f97a8a9d32cbb",
            "placeholder": "​",
            "style": "IPY_MODEL_980af07e0ad847a099a5439d42a26218",
            "value": " 548M/548M [00:08&lt;00:00, 129MB/s]"
          }
        },
        "953fc5ae526f41a4912b47247bbdcbd9": {
          "model_module": "@jupyter-widgets/base",
          "model_name": "LayoutModel",
          "model_module_version": "1.2.0",
          "state": {
            "_model_module": "@jupyter-widgets/base",
            "_model_module_version": "1.2.0",
            "_model_name": "LayoutModel",
            "_view_count": null,
            "_view_module": "@jupyter-widgets/base",
            "_view_module_version": "1.2.0",
            "_view_name": "LayoutView",
            "align_content": null,
            "align_items": null,
            "align_self": null,
            "border": null,
            "bottom": null,
            "display": null,
            "flex": null,
            "flex_flow": null,
            "grid_area": null,
            "grid_auto_columns": null,
            "grid_auto_flow": null,
            "grid_auto_rows": null,
            "grid_column": null,
            "grid_gap": null,
            "grid_row": null,
            "grid_template_areas": null,
            "grid_template_columns": null,
            "grid_template_rows": null,
            "height": null,
            "justify_content": null,
            "justify_items": null,
            "left": null,
            "margin": null,
            "max_height": null,
            "max_width": null,
            "min_height": null,
            "min_width": null,
            "object_fit": null,
            "object_position": null,
            "order": null,
            "overflow": null,
            "overflow_x": null,
            "overflow_y": null,
            "padding": null,
            "right": null,
            "top": null,
            "visibility": null,
            "width": null
          }
        },
        "ca1d745d4db44d9ebfe50496ec8ccd1a": {
          "model_module": "@jupyter-widgets/base",
          "model_name": "LayoutModel",
          "model_module_version": "1.2.0",
          "state": {
            "_model_module": "@jupyter-widgets/base",
            "_model_module_version": "1.2.0",
            "_model_name": "LayoutModel",
            "_view_count": null,
            "_view_module": "@jupyter-widgets/base",
            "_view_module_version": "1.2.0",
            "_view_name": "LayoutView",
            "align_content": null,
            "align_items": null,
            "align_self": null,
            "border": null,
            "bottom": null,
            "display": null,
            "flex": null,
            "flex_flow": null,
            "grid_area": null,
            "grid_auto_columns": null,
            "grid_auto_flow": null,
            "grid_auto_rows": null,
            "grid_column": null,
            "grid_gap": null,
            "grid_row": null,
            "grid_template_areas": null,
            "grid_template_columns": null,
            "grid_template_rows": null,
            "height": null,
            "justify_content": null,
            "justify_items": null,
            "left": null,
            "margin": null,
            "max_height": null,
            "max_width": null,
            "min_height": null,
            "min_width": null,
            "object_fit": null,
            "object_position": null,
            "order": null,
            "overflow": null,
            "overflow_x": null,
            "overflow_y": null,
            "padding": null,
            "right": null,
            "top": null,
            "visibility": null,
            "width": null
          }
        },
        "1f174b32576c490ca764de2a61baa0e5": {
          "model_module": "@jupyter-widgets/controls",
          "model_name": "DescriptionStyleModel",
          "model_module_version": "1.5.0",
          "state": {
            "_model_module": "@jupyter-widgets/controls",
            "_model_module_version": "1.5.0",
            "_model_name": "DescriptionStyleModel",
            "_view_count": null,
            "_view_module": "@jupyter-widgets/base",
            "_view_module_version": "1.2.0",
            "_view_name": "StyleView",
            "description_width": ""
          }
        },
        "7f16989fa7df4a1da841d8b99cdcef2c": {
          "model_module": "@jupyter-widgets/base",
          "model_name": "LayoutModel",
          "model_module_version": "1.2.0",
          "state": {
            "_model_module": "@jupyter-widgets/base",
            "_model_module_version": "1.2.0",
            "_model_name": "LayoutModel",
            "_view_count": null,
            "_view_module": "@jupyter-widgets/base",
            "_view_module_version": "1.2.0",
            "_view_name": "LayoutView",
            "align_content": null,
            "align_items": null,
            "align_self": null,
            "border": null,
            "bottom": null,
            "display": null,
            "flex": null,
            "flex_flow": null,
            "grid_area": null,
            "grid_auto_columns": null,
            "grid_auto_flow": null,
            "grid_auto_rows": null,
            "grid_column": null,
            "grid_gap": null,
            "grid_row": null,
            "grid_template_areas": null,
            "grid_template_columns": null,
            "grid_template_rows": null,
            "height": null,
            "justify_content": null,
            "justify_items": null,
            "left": null,
            "margin": null,
            "max_height": null,
            "max_width": null,
            "min_height": null,
            "min_width": null,
            "object_fit": null,
            "object_position": null,
            "order": null,
            "overflow": null,
            "overflow_x": null,
            "overflow_y": null,
            "padding": null,
            "right": null,
            "top": null,
            "visibility": null,
            "width": null
          }
        },
        "fb13acaf8fa54a8d9dc673263047942a": {
          "model_module": "@jupyter-widgets/controls",
          "model_name": "ProgressStyleModel",
          "model_module_version": "1.5.0",
          "state": {
            "_model_module": "@jupyter-widgets/controls",
            "_model_module_version": "1.5.0",
            "_model_name": "ProgressStyleModel",
            "_view_count": null,
            "_view_module": "@jupyter-widgets/base",
            "_view_module_version": "1.2.0",
            "_view_name": "StyleView",
            "bar_color": null,
            "description_width": ""
          }
        },
        "2696f4a2a56d4527836f97a8a9d32cbb": {
          "model_module": "@jupyter-widgets/base",
          "model_name": "LayoutModel",
          "model_module_version": "1.2.0",
          "state": {
            "_model_module": "@jupyter-widgets/base",
            "_model_module_version": "1.2.0",
            "_model_name": "LayoutModel",
            "_view_count": null,
            "_view_module": "@jupyter-widgets/base",
            "_view_module_version": "1.2.0",
            "_view_name": "LayoutView",
            "align_content": null,
            "align_items": null,
            "align_self": null,
            "border": null,
            "bottom": null,
            "display": null,
            "flex": null,
            "flex_flow": null,
            "grid_area": null,
            "grid_auto_columns": null,
            "grid_auto_flow": null,
            "grid_auto_rows": null,
            "grid_column": null,
            "grid_gap": null,
            "grid_row": null,
            "grid_template_areas": null,
            "grid_template_columns": null,
            "grid_template_rows": null,
            "height": null,
            "justify_content": null,
            "justify_items": null,
            "left": null,
            "margin": null,
            "max_height": null,
            "max_width": null,
            "min_height": null,
            "min_width": null,
            "object_fit": null,
            "object_position": null,
            "order": null,
            "overflow": null,
            "overflow_x": null,
            "overflow_y": null,
            "padding": null,
            "right": null,
            "top": null,
            "visibility": null,
            "width": null
          }
        },
        "980af07e0ad847a099a5439d42a26218": {
          "model_module": "@jupyter-widgets/controls",
          "model_name": "DescriptionStyleModel",
          "model_module_version": "1.5.0",
          "state": {
            "_model_module": "@jupyter-widgets/controls",
            "_model_module_version": "1.5.0",
            "_model_name": "DescriptionStyleModel",
            "_view_count": null,
            "_view_module": "@jupyter-widgets/base",
            "_view_module_version": "1.2.0",
            "_view_name": "StyleView",
            "description_width": ""
          }
        },
        "1512fb20932f4258b36cafebd969cfe6": {
          "model_module": "@jupyter-widgets/controls",
          "model_name": "HBoxModel",
          "model_module_version": "1.5.0",
          "state": {
            "_dom_classes": [],
            "_model_module": "@jupyter-widgets/controls",
            "_model_module_version": "1.5.0",
            "_model_name": "HBoxModel",
            "_view_count": null,
            "_view_module": "@jupyter-widgets/controls",
            "_view_module_version": "1.5.0",
            "_view_name": "HBoxView",
            "box_style": "",
            "children": [
              "IPY_MODEL_a45493da3b3e4846b37959e88ec6142c",
              "IPY_MODEL_dca723114d1041a6b45949612c357c7f",
              "IPY_MODEL_1d935b52260b41b68a7d8517fe491f4f"
            ],
            "layout": "IPY_MODEL_41d3fcfd21604e8d8961521643dac103"
          }
        },
        "a45493da3b3e4846b37959e88ec6142c": {
          "model_module": "@jupyter-widgets/controls",
          "model_name": "HTMLModel",
          "model_module_version": "1.5.0",
          "state": {
            "_dom_classes": [],
            "_model_module": "@jupyter-widgets/controls",
            "_model_module_version": "1.5.0",
            "_model_name": "HTMLModel",
            "_view_count": null,
            "_view_module": "@jupyter-widgets/controls",
            "_view_module_version": "1.5.0",
            "_view_name": "HTMLView",
            "description": "",
            "description_tooltip": null,
            "layout": "IPY_MODEL_7fc2afcf8e3a4b88968070546a077a5e",
            "placeholder": "​",
            "style": "IPY_MODEL_533dde2900474fc58729bfc9781ad560",
            "value": "generation_config.json: 100%"
          }
        },
        "dca723114d1041a6b45949612c357c7f": {
          "model_module": "@jupyter-widgets/controls",
          "model_name": "FloatProgressModel",
          "model_module_version": "1.5.0",
          "state": {
            "_dom_classes": [],
            "_model_module": "@jupyter-widgets/controls",
            "_model_module_version": "1.5.0",
            "_model_name": "FloatProgressModel",
            "_view_count": null,
            "_view_module": "@jupyter-widgets/controls",
            "_view_module_version": "1.5.0",
            "_view_name": "ProgressView",
            "bar_style": "success",
            "description": "",
            "description_tooltip": null,
            "layout": "IPY_MODEL_2e96876f102b4969aa293f6c6f3d25a6",
            "max": 124,
            "min": 0,
            "orientation": "horizontal",
            "style": "IPY_MODEL_a43c89417ace4e58b18f82af91c94bba",
            "value": 124
          }
        },
        "1d935b52260b41b68a7d8517fe491f4f": {
          "model_module": "@jupyter-widgets/controls",
          "model_name": "HTMLModel",
          "model_module_version": "1.5.0",
          "state": {
            "_dom_classes": [],
            "_model_module": "@jupyter-widgets/controls",
            "_model_module_version": "1.5.0",
            "_model_name": "HTMLModel",
            "_view_count": null,
            "_view_module": "@jupyter-widgets/controls",
            "_view_module_version": "1.5.0",
            "_view_name": "HTMLView",
            "description": "",
            "description_tooltip": null,
            "layout": "IPY_MODEL_940e4825514c434f9f701db4052d4476",
            "placeholder": "​",
            "style": "IPY_MODEL_8173a29104a3401693e4f87c83cdbfb3",
            "value": " 124/124 [00:00&lt;00:00, 6.73kB/s]"
          }
        },
        "41d3fcfd21604e8d8961521643dac103": {
          "model_module": "@jupyter-widgets/base",
          "model_name": "LayoutModel",
          "model_module_version": "1.2.0",
          "state": {
            "_model_module": "@jupyter-widgets/base",
            "_model_module_version": "1.2.0",
            "_model_name": "LayoutModel",
            "_view_count": null,
            "_view_module": "@jupyter-widgets/base",
            "_view_module_version": "1.2.0",
            "_view_name": "LayoutView",
            "align_content": null,
            "align_items": null,
            "align_self": null,
            "border": null,
            "bottom": null,
            "display": null,
            "flex": null,
            "flex_flow": null,
            "grid_area": null,
            "grid_auto_columns": null,
            "grid_auto_flow": null,
            "grid_auto_rows": null,
            "grid_column": null,
            "grid_gap": null,
            "grid_row": null,
            "grid_template_areas": null,
            "grid_template_columns": null,
            "grid_template_rows": null,
            "height": null,
            "justify_content": null,
            "justify_items": null,
            "left": null,
            "margin": null,
            "max_height": null,
            "max_width": null,
            "min_height": null,
            "min_width": null,
            "object_fit": null,
            "object_position": null,
            "order": null,
            "overflow": null,
            "overflow_x": null,
            "overflow_y": null,
            "padding": null,
            "right": null,
            "top": null,
            "visibility": null,
            "width": null
          }
        },
        "7fc2afcf8e3a4b88968070546a077a5e": {
          "model_module": "@jupyter-widgets/base",
          "model_name": "LayoutModel",
          "model_module_version": "1.2.0",
          "state": {
            "_model_module": "@jupyter-widgets/base",
            "_model_module_version": "1.2.0",
            "_model_name": "LayoutModel",
            "_view_count": null,
            "_view_module": "@jupyter-widgets/base",
            "_view_module_version": "1.2.0",
            "_view_name": "LayoutView",
            "align_content": null,
            "align_items": null,
            "align_self": null,
            "border": null,
            "bottom": null,
            "display": null,
            "flex": null,
            "flex_flow": null,
            "grid_area": null,
            "grid_auto_columns": null,
            "grid_auto_flow": null,
            "grid_auto_rows": null,
            "grid_column": null,
            "grid_gap": null,
            "grid_row": null,
            "grid_template_areas": null,
            "grid_template_columns": null,
            "grid_template_rows": null,
            "height": null,
            "justify_content": null,
            "justify_items": null,
            "left": null,
            "margin": null,
            "max_height": null,
            "max_width": null,
            "min_height": null,
            "min_width": null,
            "object_fit": null,
            "object_position": null,
            "order": null,
            "overflow": null,
            "overflow_x": null,
            "overflow_y": null,
            "padding": null,
            "right": null,
            "top": null,
            "visibility": null,
            "width": null
          }
        },
        "533dde2900474fc58729bfc9781ad560": {
          "model_module": "@jupyter-widgets/controls",
          "model_name": "DescriptionStyleModel",
          "model_module_version": "1.5.0",
          "state": {
            "_model_module": "@jupyter-widgets/controls",
            "_model_module_version": "1.5.0",
            "_model_name": "DescriptionStyleModel",
            "_view_count": null,
            "_view_module": "@jupyter-widgets/base",
            "_view_module_version": "1.2.0",
            "_view_name": "StyleView",
            "description_width": ""
          }
        },
        "2e96876f102b4969aa293f6c6f3d25a6": {
          "model_module": "@jupyter-widgets/base",
          "model_name": "LayoutModel",
          "model_module_version": "1.2.0",
          "state": {
            "_model_module": "@jupyter-widgets/base",
            "_model_module_version": "1.2.0",
            "_model_name": "LayoutModel",
            "_view_count": null,
            "_view_module": "@jupyter-widgets/base",
            "_view_module_version": "1.2.0",
            "_view_name": "LayoutView",
            "align_content": null,
            "align_items": null,
            "align_self": null,
            "border": null,
            "bottom": null,
            "display": null,
            "flex": null,
            "flex_flow": null,
            "grid_area": null,
            "grid_auto_columns": null,
            "grid_auto_flow": null,
            "grid_auto_rows": null,
            "grid_column": null,
            "grid_gap": null,
            "grid_row": null,
            "grid_template_areas": null,
            "grid_template_columns": null,
            "grid_template_rows": null,
            "height": null,
            "justify_content": null,
            "justify_items": null,
            "left": null,
            "margin": null,
            "max_height": null,
            "max_width": null,
            "min_height": null,
            "min_width": null,
            "object_fit": null,
            "object_position": null,
            "order": null,
            "overflow": null,
            "overflow_x": null,
            "overflow_y": null,
            "padding": null,
            "right": null,
            "top": null,
            "visibility": null,
            "width": null
          }
        },
        "a43c89417ace4e58b18f82af91c94bba": {
          "model_module": "@jupyter-widgets/controls",
          "model_name": "ProgressStyleModel",
          "model_module_version": "1.5.0",
          "state": {
            "_model_module": "@jupyter-widgets/controls",
            "_model_module_version": "1.5.0",
            "_model_name": "ProgressStyleModel",
            "_view_count": null,
            "_view_module": "@jupyter-widgets/base",
            "_view_module_version": "1.2.0",
            "_view_name": "StyleView",
            "bar_color": null,
            "description_width": ""
          }
        },
        "940e4825514c434f9f701db4052d4476": {
          "model_module": "@jupyter-widgets/base",
          "model_name": "LayoutModel",
          "model_module_version": "1.2.0",
          "state": {
            "_model_module": "@jupyter-widgets/base",
            "_model_module_version": "1.2.0",
            "_model_name": "LayoutModel",
            "_view_count": null,
            "_view_module": "@jupyter-widgets/base",
            "_view_module_version": "1.2.0",
            "_view_name": "LayoutView",
            "align_content": null,
            "align_items": null,
            "align_self": null,
            "border": null,
            "bottom": null,
            "display": null,
            "flex": null,
            "flex_flow": null,
            "grid_area": null,
            "grid_auto_columns": null,
            "grid_auto_flow": null,
            "grid_auto_rows": null,
            "grid_column": null,
            "grid_gap": null,
            "grid_row": null,
            "grid_template_areas": null,
            "grid_template_columns": null,
            "grid_template_rows": null,
            "height": null,
            "justify_content": null,
            "justify_items": null,
            "left": null,
            "margin": null,
            "max_height": null,
            "max_width": null,
            "min_height": null,
            "min_width": null,
            "object_fit": null,
            "object_position": null,
            "order": null,
            "overflow": null,
            "overflow_x": null,
            "overflow_y": null,
            "padding": null,
            "right": null,
            "top": null,
            "visibility": null,
            "width": null
          }
        },
        "8173a29104a3401693e4f87c83cdbfb3": {
          "model_module": "@jupyter-widgets/controls",
          "model_name": "DescriptionStyleModel",
          "model_module_version": "1.5.0",
          "state": {
            "_model_module": "@jupyter-widgets/controls",
            "_model_module_version": "1.5.0",
            "_model_name": "DescriptionStyleModel",
            "_view_count": null,
            "_view_module": "@jupyter-widgets/base",
            "_view_module_version": "1.2.0",
            "_view_name": "StyleView",
            "description_width": ""
          }
        }
      }
    }
  },
  "cells": [
    {
      "cell_type": "markdown",
      "metadata": {
        "id": "view-in-github",
        "colab_type": "text"
      },
      "source": [
        "<a href=\"https://colab.research.google.com/github/yul77/Review/blob/main/HMLLM/%ED%9C%B4%EB%A8%BC_LLM_%EC%88%98%EC%97%85_1%EC%B0%A8_.ipynb\" target=\"_parent\"><img src=\"https://colab.research.google.com/assets/colab-badge.svg\" alt=\"Open In Colab\"/></a>"
      ]
    },
    {
      "cell_type": "markdown",
      "source": [
        "## 자연어 처리 (NLP, Natural Language Processing) introduction\n",
        "\n",
        "- 자연어 처리(NLP)는 컴퓨터가 인간 언어를 이해하고 생성할 수 있도록 하는 기술을 연구하는 분야로, 언어학, 컴퓨터 과학, 인공지능(AI) 기술의 교차점에 위치합니다. NLP는 다양한 언어적 과업을 수행하기 위해 다양한 알고리즘, 모델 및 기법을 사용합니다. 이러한 과업은 텍스트 데이터의 구조화, 분석, 생성 등을 포함합니다."
      ],
      "metadata": {
        "id": "tKQRnJPPLXL7"
      }
    },
    {
      "cell_type": "markdown",
      "source": [
        "### 주요 기술적 과업 및 기법\n",
        "\n",
        "1. **텍스트 전처리**\n",
        "    - **토큰화(Tokenization)**: 문장을 단어, 문장 또는 어절 단위로 분리합니다. 예를 들어, \"NLP is fascinating.\"이라는 문장은 [\"NLP\", \"is\", \"fascinating\", \".\"]으로 토큰화될 수 있습니다."
      ],
      "metadata": {
        "id": "Wo2Hf521OoKB"
      }
    },
    {
      "cell_type": "code",
      "execution_count": 10,
      "metadata": {
        "colab": {
          "base_uri": "https://localhost:8080/"
        },
        "id": "p46Z9K0ZLPSU",
        "outputId": "810b43b0-da45-4ce9-b1be-aed22ebb3645"
      },
      "outputs": [
        {
          "output_type": "stream",
          "name": "stdout",
          "text": [
            "Tokens: ['NLP', 'is', 'fascinating', '.']\n",
            "Vocabulary: ['.', 'NLP', 'fascinating', 'is']\n",
            "Token: NLP -> Vector: [0. 1. 0. 0.]\n",
            "Token: is -> Vector: [0. 0. 0. 1.]\n",
            "Token: fascinating -> Vector: [0. 0. 1. 0.]\n",
            "Token: . -> Vector: [1. 0. 0. 0.]\n"
          ]
        },
        {
          "output_type": "stream",
          "name": "stderr",
          "text": [
            "[nltk_data] Downloading package punkt to /root/nltk_data...\n",
            "[nltk_data]   Package punkt is already up-to-date!\n"
          ]
        }
      ],
      "source": [
        "import nltk                                                                         # nlt를 연습할 수 있게 하는 프로그램\n",
        "import numpy as np\n",
        "\n",
        "# Ensure the punkt data is downloaded\n",
        "nltk.download('punkt')\n",
        "\n",
        "# Tokenization\n",
        "text = \"NLP is fascinating.\"\n",
        "tokens = nltk.word_tokenize(text)\n",
        "print(\"Tokens:\", tokens)  # Output: ['NLP', 'is', 'fascinating', '.']\n",
        "\n",
        "# One-hot encoding representation   ( 문자를 숫자로 인코딩 원핫 인코딩 )\n",
        "vocab = sorted(set(tokens))\n",
        "print(\"Vocabulary:\", vocab)  # ['.', 'NLP', 'fascinating', 'is']\n",
        "\n",
        "one_hot_vectors = np.eye(len(vocab))[np.array([vocab.index(token) for token in tokens])]\n",
        "\n",
        "# Display the one-hot vectors for each token\n",
        "for token, vector in zip(tokens, one_hot_vectors):\n",
        "    print(f\"Token: {token} -> Vector: {vector}\")"
      ]
    },
    {
      "cell_type": "markdown",
      "source": [
        "# **Q**. 오타가 나면 인식을 못한다고 하는데 그게 내가 사전에 인코딩한 문장 외의 문자를 입력하면 오류가 나는거야? 아니면 nlt 프로그램에 해당 안되는 문자를 입력했을 시 오류가 난다는거야?\n",
        "\n",
        "\n",
        "\n",
        "\n",
        " LLM 수업에서 오타로 인해 인식 오류가 나는 이유는 주로 모델이 사전에 학습한 데이터와 관련이 있습니다. 두 가지 경우로 나눠서 설명할 수 있습니다:\n",
        "\n",
        "사전에 인코딩한 문장 외의 문자 입력: 만약 학습이나 처리할 때 사용하는 데이터나 문장이 특정한 규칙이나 포맷으로 인코딩되어 있을 때, 그 규칙을 벗어난 문자가 입력되면 인식 오류나 제대로 처리가 안 될 가능성이 큽니다. 예를 들어, 기계가 처리할 수 있는 범위 밖의 특수 문자가 들어가면 문제를 일으킬 수 있습니다.\n",
        "\n",
        "NLT(Natural Language Toolkit) 프로그램과 관련된 문제: NLTK 같은 자연어 처리 도구는 특정 언어 패턴이나 형식에 맞춰 작동합니다. 만약 프로그램이 학습하지 않은, 또는 지원하지 않는 문자가 입력되면 예상치 못한 결과나 오류가 발생할 수 있습니다. 예를 들어, 오타나 특수문자가 입력될 경우, 그 문자를 처리할 수 없어서 잘못된 결과가 나올 수 있죠.\n",
        "\n",
        "결론적으로, 오타나 인식 불가 문자는 모델이 학습한 내용과 실제 입력값이 불일치하거나 해당 프로그램이 지원하지 않는 문자가 포함된 경우에 발생합니다."
      ],
      "metadata": {
        "id": "sLg0OnSoTuIw"
      }
    },
    {
      "cell_type": "markdown",
      "source": [
        "# **Q.그러면 nlt프로그램이 학습하지 않은 언어라는건 어떤게 있어? 한국어도 오류에 포함되는건가?**"
      ],
      "metadata": {
        "id": "gBWyNE01U-OA"
      }
    },
    {
      "cell_type": "markdown",
      "source": [
        "* 정규화(Normalization): 텍스트를 일관된 형식으로 변환하는 작업입니다. 예를 들어, 모든 문자를 소문자로 변환하거나, 불필요한 기호를 제거할 수 있습니다."
      ],
      "metadata": {
        "id": "Q6A2jdgzOsyh"
      }
    },
    {
      "cell_type": "code",
      "source": [
        "text = \"NLP is fascinating!!!\"\n",
        "normalized_text = text.lower().replace(\"!!!\", \"\")  # 느낌표를 블랭크로 대체하라는 명령어. = 느낌표를 제거하라 = 원핫인코딩을 위해 느낌표 마침표등을 제거한다.\n",
        "print(normalized_text)  # Output: 'nlp is fascinating' -> text.lower() 사용하려 소문자로만 출력된다"
      ],
      "metadata": {
        "colab": {
          "base_uri": "https://localhost:8080/"
        },
        "id": "B8SmE_HQOzoj",
        "outputId": "2638a7d0-2991-4486-baba-2bfb0532c3e4"
      },
      "execution_count": 11,
      "outputs": [
        {
          "output_type": "stream",
          "name": "stdout",
          "text": [
            "nlp is fascinating\n"
          ]
        }
      ]
    },
    {
      "cell_type": "markdown",
      "source": [
        "* 형태소 분석(Morphological Analysis): 단어의 어근, 접두사, 접미사를 분석하여 단어의 의미를 파악합니다. 예를 들어, \"running\"이라는 단어는 \"run\"이라는 어근과 \"-ing\" 접미사로 분해됩니다."
      ],
      "metadata": {
        "id": "H8lEFP_zP2VJ"
      }
    },
    {
      "cell_type": "code",
      "source": [
        "from nltk.stem import PorterStemmer\n",
        "stemmer = PorterStemmer()\n",
        "word = \"running\"\n",
        "stem = stemmer.stem(word)\n",
        "print(stem)  # Output: 'run'  = ing가 들어간 다른 단어들을 넣어도 원형으로 출력이 된다 ex)  flying , moving 등등\n",
        "             # nltk 어휘사전에 등록되어있어서 원형으로 나온다\n"
      ],
      "metadata": {
        "id": "FARPsxXZP4MJ",
        "colab": {
          "base_uri": "https://localhost:8080/"
        },
        "outputId": "87def996-4413-49f6-f76b-56a2be7b9782"
      },
      "execution_count": 12,
      "outputs": [
        {
          "output_type": "stream",
          "name": "stdout",
          "text": [
            "run\n"
          ]
        }
      ]
    },
    {
      "cell_type": "markdown",
      "source": [
        "* 품사 태깅(Part-of-Speech Tagging): 각 단어에 대해 문법적 품사를 지정하는 작업입니다. 예를 들어, \"He is running.\"이라는 문장에서 \"He\"는 대명사(PRP), \"is\"는 동사(VBZ), \"running\"은 동명사(VBG)로 태깅됩니다."
      ],
      "metadata": {
        "id": "l2jDIgncP71t"
      }
    },
    {
      "cell_type": "code",
      "source": [
        "import nltk\n",
        "nltk.download('averaged_perceptron_tagger')\n",
        "sentence = \"He is running.\"\n",
        "pos_tags = nltk.pos_tag(word_tokenize(sentence))\n",
        "print(pos_tags)  # Output: [('He', 'PRP'), ('is', 'VBZ'), ('running', 'VBG')]\n",
        "\n",
        "# 오류 맞음 - nltk에서 'word_tokenize'를 더이상 안쓰는 것 같다고 새로운 코드로 알려주시겠다고 함."
      ],
      "metadata": {
        "id": "1iVjPRDoP94h",
        "colab": {
          "base_uri": "https://localhost:8080/",
          "height": 263
        },
        "outputId": "a9c3539d-51be-4d79-d5ea-92faad386b22"
      },
      "execution_count": 13,
      "outputs": [
        {
          "output_type": "stream",
          "name": "stderr",
          "text": [
            "[nltk_data] Downloading package averaged_perceptron_tagger to\n",
            "[nltk_data]     /root/nltk_data...\n",
            "[nltk_data]   Package averaged_perceptron_tagger is already up-to-\n",
            "[nltk_data]       date!\n"
          ]
        },
        {
          "output_type": "error",
          "ename": "NameError",
          "evalue": "name 'word_tokenize' is not defined",
          "traceback": [
            "\u001b[0;31m---------------------------------------------------------------------------\u001b[0m",
            "\u001b[0;31mNameError\u001b[0m                                 Traceback (most recent call last)",
            "\u001b[0;32m<ipython-input-13-0be57741ee65>\u001b[0m in \u001b[0;36m<cell line: 4>\u001b[0;34m()\u001b[0m\n\u001b[1;32m      2\u001b[0m \u001b[0mnltk\u001b[0m\u001b[0;34m.\u001b[0m\u001b[0mdownload\u001b[0m\u001b[0;34m(\u001b[0m\u001b[0;34m'averaged_perceptron_tagger'\u001b[0m\u001b[0;34m)\u001b[0m\u001b[0;34m\u001b[0m\u001b[0;34m\u001b[0m\u001b[0m\n\u001b[1;32m      3\u001b[0m \u001b[0msentence\u001b[0m \u001b[0;34m=\u001b[0m \u001b[0;34m\"He is running.\"\u001b[0m\u001b[0;34m\u001b[0m\u001b[0;34m\u001b[0m\u001b[0m\n\u001b[0;32m----> 4\u001b[0;31m \u001b[0mpos_tags\u001b[0m \u001b[0;34m=\u001b[0m \u001b[0mnltk\u001b[0m\u001b[0;34m.\u001b[0m\u001b[0mpos_tag\u001b[0m\u001b[0;34m(\u001b[0m\u001b[0mword_tokenize\u001b[0m\u001b[0;34m(\u001b[0m\u001b[0msentence\u001b[0m\u001b[0;34m)\u001b[0m\u001b[0;34m)\u001b[0m\u001b[0;34m\u001b[0m\u001b[0;34m\u001b[0m\u001b[0m\n\u001b[0m\u001b[1;32m      5\u001b[0m \u001b[0mprint\u001b[0m\u001b[0;34m(\u001b[0m\u001b[0mpos_tags\u001b[0m\u001b[0;34m)\u001b[0m  \u001b[0;31m# Output: [('He', 'PRP'), ('is', 'VBZ'), ('running', 'VBG')]\u001b[0m\u001b[0;34m\u001b[0m\u001b[0;34m\u001b[0m\u001b[0m\n",
            "\u001b[0;31mNameError\u001b[0m: name 'word_tokenize' is not defined"
          ]
        }
      ]
    },
    {
      "source": [
        "# gpt한테 물어봐서 수정한 코드\n",
        "import nltk\n",
        "nltk.download('averaged_perceptron_tagger')\n",
        "from nltk.tokenize import word_tokenize # import the word_tokenize function\n",
        "sentence = \"He is running.\"\n",
        "pos_tags = nltk.pos_tag(word_tokenize(sentence))\n",
        "print(pos_tags)  # Output: [('He', 'PRP'), ('is', 'VBZ'), ('running', 'VBG')]"
      ],
      "cell_type": "code",
      "metadata": {
        "colab": {
          "base_uri": "https://localhost:8080/"
        },
        "id": "UKoSF6WVWpRB",
        "outputId": "65660566-83cf-49f5-a553-2a397c715af8"
      },
      "execution_count": 17,
      "outputs": [
        {
          "output_type": "stream",
          "name": "stdout",
          "text": [
            "[('He', 'PRP'), ('is', 'VBZ'), ('running', 'VBG'), ('.', '.')]\n"
          ]
        },
        {
          "output_type": "stream",
          "name": "stderr",
          "text": [
            "[nltk_data] Downloading package averaged_perceptron_tagger to\n",
            "[nltk_data]     /root/nltk_data...\n",
            "[nltk_data]   Package averaged_perceptron_tagger is already up-to-\n",
            "[nltk_data]       date!\n"
          ]
        }
      ]
    },
    {
      "cell_type": "markdown",
      "source": [
        "2. **언어 모델링(Language Modeling)**\n",
        "    - **n-그램 모델**: n-그램 모델은 단어 시퀀스의 확률을 계산하는 모델입니다. 예를 들어, 2-그램(bi-gram) 모델은 두 단어 쌍의 확률을 계산합니다. \"I love NLP\"에서 2-그램 모델은 P(\"love\" | \"I\")와 P(\"NLP\" | \"love\")의 확률을 계산하여 전체 문장의 확률을 평가합니다.\n",
        "    - **신경망 언어 모델**:\n",
        "        - **RNN (Recurrent Neural Networks)**: 시퀀스 데이터를 처리하는 신경망으로, 이전 상태를 고려하여 다음 단어를 예측합니다. 그러나 RNN은 긴 문맥을 처리하는 데 한계가 있습니다.\n",
        "        - **LSTM (Long Short-Term Memory)**: RNN의 변형으로, 장기 의존성을 처리할 수 있도록 설계되었습니다. LSTM은 \"셀 상태\"를 유지하며, 이전 정보가 더 오래 유지될 수 있도록 합니다.\n",
        "        - **Transformer**: 자기 주의 메커니즘(Self-Attention)을 사용하는 모델로, 병렬 처리가 가능하며, 긴 문맥을 효과적으로 처리할 수 있습니다. BERT(Bidirectional Encoder Representations from Transformers)와 GPT(Generative Pre-trained Transformer)는 Transformer 아키텍처에 기반한 대표적인 모델입니다."
      ],
      "metadata": {
        "id": "Zljx8LLbPsh5"
      }
    },
    {
      "cell_type": "markdown",
      "source": [
        "<span style=\"color:blue\"> Ai 는 룰베이스를 기반으로 한다. 인공지능은 스스로 판단할 수 있어야 하고 if else까지 포함된다.\n",
        "\n",
        "룰베이스의 한계를 극복하고자 개발된것 = 머신러닝\n",
        "머신러닝 : 딥러닝,수학적알고리즘 (SVN,DT,KNN)\n",
        "우리가 공부할 것은 딥러닝에 속한다.\n",
        "\n",
        "\n",
        "**RNN** = 시간을 메모리에 입력한것. 단 메모리가 짧은 것이 단점. 과거에 있었던 말을 기억을 못하는 문제 발생. 한문장은 괜찮은데 문단은 처리 불가.\n",
        "\n",
        "그래서 만들어진 알고리즘이 **LSTM**\n",
        "\n",
        "</span>\n",
        "\n"
      ],
      "metadata": {
        "id": "P5T8XBkOXOB3"
      }
    },
    {
      "cell_type": "code",
      "source": [
        "from transformers import GPT2Tokenizer, GPT2LMHeadModel\n",
        "import torch\n",
        "\n",
        "tokenizer = GPT2Tokenizer.from_pretrained(\"gpt2\")  # gpt2 모델로 토크나이즈 한다.\n",
        "model = GPT2LMHeadModel.from_pretrained(\"gpt2\")\n",
        "\n",
        "input_text = \"Natural language processing is\"\n",
        "input_ids = tokenizer.encode(input_text, return_tensors=\"pt\")\n",
        "output = model.generate(input_ids, max_length=50, num_return_sequences=1)\n",
        "\n",
        "generated_text = tokenizer.decode(output[0], skip_special_tokens=True)\n",
        "print(generated_text)"
      ],
      "metadata": {
        "id": "Aq-kvC5uQDZp",
        "colab": {
          "base_uri": "https://localhost:8080/",
          "height": 573,
          "referenced_widgets": [
            "86d8884f2731478fa3e40524745b108d",
            "9ed2b24310da429bb2f9312810c24cf7",
            "779cba1869094360af87c690d0f74566",
            "d490801a5c1c40f29fb87e36c2252bda",
            "0dfafe3e2c9d4c3587e83f6806eb3ed4",
            "c0d7bdf3159d4ca5a2375331a3c777a5",
            "7039271e34b7453e8daf51eb70ef3a82",
            "39c4cf627fc44e6caa5e090821776955",
            "073cf5974d2e4ff2ba36ac809a9839e7",
            "e5bbc1a6630e4ee0a2536ff840f7f4d8",
            "148144c8c28047179624dca6419da39a",
            "20f0822d881340e3a545dde951587a10",
            "8b15942286ad466e94aee149e1af98db",
            "92e8d36942fc417c82a865da0e6a140a",
            "4f62b5d6c30f4bf388e6e5e66f63b891",
            "516b551ccef14a8b8680967d1e92af34",
            "15071ba192ea4630901be69fdab5d2f6",
            "ce69f826a31944e285f9aa59a96548f0",
            "971a4e3403e742af81f6a5d974bc4bc7",
            "5d1639b9410d4d69971f665607809303",
            "495b9e2e40644de8814a17d8492f6421",
            "490bf3f88f52467c882ba4edf016fb8a",
            "80e8c8672f5c4662b14ccdb8dcd1464a",
            "0ca03fc0bbe8410b8a1da0e9300dbfac",
            "e31361b20e6f49eebbf5dc87ce061bb4",
            "6a4fae77ebb747528395013eb6940b93",
            "6f80bb3a0f1043ed818d837707c950ef",
            "95bb8f902a6648169a7abfefb446814a",
            "32b0dc437b0a4ff9a78822550878168f",
            "0bdc8a325fed4fe08037cf7ad083248c",
            "effface4e47f4d9d8776dbb397693348",
            "f779f6626547465aaa19bcd0c63c2f9d",
            "ef7b2ae538254d1d8011e429741d433f",
            "f6dd09e1d0624990859a0d71f0b72031",
            "21ddd506af314e08be447fcd2f3c080b",
            "f1cc77385c40428bace450058599340d",
            "878e2cd509f2434096b20f92fb8c2104",
            "09deeef840c64a928ce3d7fa07fabc7d",
            "d2e9a4b3505b4ed9a2657f6750ec1217",
            "f078df31f993403cbae8eddda01f3d01",
            "44a84331aaeb49b5b535d7189ac6a1d6",
            "bcac3dddda8b4aa7a30c28acbbf98cb2",
            "a663b2c14269432da153ec2b7c637a74",
            "8e812a9244674d3d963d9b3dee313a25",
            "8ae8740f74ed4ae2a03b8c888416068f",
            "ad210d209a444b4faa40b57cb502034c",
            "93e0e3d377164c25adffbbfe58000b76",
            "2c027c449f9046d1af93c1eabf83e914",
            "26af8e8864ec4cd4984aa750c2fd0106",
            "aaa6b2a2ae09479a85282d655f645cea",
            "e9e3a25735f84b778e3774d0e8f810ae",
            "3cc20a9b77df478798064e8aa7b434cc",
            "a361e1345ca3458a93eca478cace3b43",
            "52e188e6f9ee487aa147b72ce0362691",
            "fd44d15a9b0b464e8fb6c411d0b449b1",
            "daf67620d23a4aea937a00649303512e",
            "37f5cd9ff84241eabd9a2dcb14a3f178",
            "ea20f345307746febc25509b0a46e9ea",
            "66da3ac6006a451e8e2880c20291ac45",
            "953fc5ae526f41a4912b47247bbdcbd9",
            "ca1d745d4db44d9ebfe50496ec8ccd1a",
            "1f174b32576c490ca764de2a61baa0e5",
            "7f16989fa7df4a1da841d8b99cdcef2c",
            "fb13acaf8fa54a8d9dc673263047942a",
            "2696f4a2a56d4527836f97a8a9d32cbb",
            "980af07e0ad847a099a5439d42a26218",
            "1512fb20932f4258b36cafebd969cfe6",
            "a45493da3b3e4846b37959e88ec6142c",
            "dca723114d1041a6b45949612c357c7f",
            "1d935b52260b41b68a7d8517fe491f4f",
            "41d3fcfd21604e8d8961521643dac103",
            "7fc2afcf8e3a4b88968070546a077a5e",
            "533dde2900474fc58729bfc9781ad560",
            "2e96876f102b4969aa293f6c6f3d25a6",
            "a43c89417ace4e58b18f82af91c94bba",
            "940e4825514c434f9f701db4052d4476",
            "8173a29104a3401693e4f87c83cdbfb3"
          ]
        },
        "outputId": "45dd5524-a9f1-48b3-c6a8-f422ab71c316"
      },
      "execution_count": 15,
      "outputs": [
        {
          "output_type": "stream",
          "name": "stderr",
          "text": [
            "/usr/local/lib/python3.10/dist-packages/huggingface_hub/utils/_token.py:89: UserWarning: \n",
            "The secret `HF_TOKEN` does not exist in your Colab secrets.\n",
            "To authenticate with the Hugging Face Hub, create a token in your settings tab (https://huggingface.co/settings/tokens), set it as secret in your Google Colab and restart your session.\n",
            "You will be able to reuse this secret in all of your notebooks.\n",
            "Please note that authentication is recommended but still optional to access public models or datasets.\n",
            "  warnings.warn(\n"
          ]
        },
        {
          "output_type": "display_data",
          "data": {
            "text/plain": [
              "tokenizer_config.json:   0%|          | 0.00/26.0 [00:00<?, ?B/s]"
            ],
            "application/vnd.jupyter.widget-view+json": {
              "version_major": 2,
              "version_minor": 0,
              "model_id": "86d8884f2731478fa3e40524745b108d"
            }
          },
          "metadata": {}
        },
        {
          "output_type": "display_data",
          "data": {
            "text/plain": [
              "vocab.json:   0%|          | 0.00/1.04M [00:00<?, ?B/s]"
            ],
            "application/vnd.jupyter.widget-view+json": {
              "version_major": 2,
              "version_minor": 0,
              "model_id": "20f0822d881340e3a545dde951587a10"
            }
          },
          "metadata": {}
        },
        {
          "output_type": "display_data",
          "data": {
            "text/plain": [
              "merges.txt:   0%|          | 0.00/456k [00:00<?, ?B/s]"
            ],
            "application/vnd.jupyter.widget-view+json": {
              "version_major": 2,
              "version_minor": 0,
              "model_id": "80e8c8672f5c4662b14ccdb8dcd1464a"
            }
          },
          "metadata": {}
        },
        {
          "output_type": "display_data",
          "data": {
            "text/plain": [
              "tokenizer.json:   0%|          | 0.00/1.36M [00:00<?, ?B/s]"
            ],
            "application/vnd.jupyter.widget-view+json": {
              "version_major": 2,
              "version_minor": 0,
              "model_id": "f6dd09e1d0624990859a0d71f0b72031"
            }
          },
          "metadata": {}
        },
        {
          "output_type": "display_data",
          "data": {
            "text/plain": [
              "config.json:   0%|          | 0.00/665 [00:00<?, ?B/s]"
            ],
            "application/vnd.jupyter.widget-view+json": {
              "version_major": 2,
              "version_minor": 0,
              "model_id": "8ae8740f74ed4ae2a03b8c888416068f"
            }
          },
          "metadata": {}
        },
        {
          "output_type": "stream",
          "name": "stderr",
          "text": [
            "/usr/local/lib/python3.10/dist-packages/transformers/tokenization_utils_base.py:1601: FutureWarning: `clean_up_tokenization_spaces` was not set. It will be set to `True` by default. This behavior will be depracted in transformers v4.45, and will be then set to `False` by default. For more details check this issue: https://github.com/huggingface/transformers/issues/31884\n",
            "  warnings.warn(\n"
          ]
        },
        {
          "output_type": "display_data",
          "data": {
            "text/plain": [
              "model.safetensors:   0%|          | 0.00/548M [00:00<?, ?B/s]"
            ],
            "application/vnd.jupyter.widget-view+json": {
              "version_major": 2,
              "version_minor": 0,
              "model_id": "daf67620d23a4aea937a00649303512e"
            }
          },
          "metadata": {}
        },
        {
          "output_type": "display_data",
          "data": {
            "text/plain": [
              "generation_config.json:   0%|          | 0.00/124 [00:00<?, ?B/s]"
            ],
            "application/vnd.jupyter.widget-view+json": {
              "version_major": 2,
              "version_minor": 0,
              "model_id": "1512fb20932f4258b36cafebd969cfe6"
            }
          },
          "metadata": {}
        },
        {
          "output_type": "stream",
          "name": "stderr",
          "text": [
            "The attention mask and the pad token id were not set. As a consequence, you may observe unexpected behavior. Please pass your input's `attention_mask` to obtain reliable results.\n",
            "Setting `pad_token_id` to `eos_token_id`:50256 for open-end generation.\n",
            "The attention mask is not set and cannot be inferred from input because pad token is same as eos token. As a consequence, you may observe unexpected behavior. Please pass your input's `attention_mask` to obtain reliable results.\n"
          ]
        },
        {
          "output_type": "stream",
          "name": "stdout",
          "text": [
            "Natural language processing is a very important part of the language learning process.\n",
            "\n",
            "The first step is to understand the language. The second step is to understand the language.\n",
            "\n",
            "The first step is to understand the language.\n",
            "\n",
            "The second step\n"
          ]
        }
      ]
    },
    {
      "cell_type": "markdown",
      "source": [
        "GPT모델 = 생성을 하겠다\n",
        "\n",
        "특징 ->피쳐"
      ],
      "metadata": {
        "id": "X1jHNckNaAG-"
      }
    },
    {
      "cell_type": "markdown",
      "source": [
        "3. **정보 검색(Information Retrieval) 및 추출(Extraction)**\n",
        "    - **TF-IDF (Term Frequency-Inverse Document Frequency)**: 문서 내 특정 단어의 중요성을 평가하는 기법입니다. 단어의 빈도(Term Frequency)와 해당 단어가 등장한 문서 수의 역수(Inverse Document Frequency)를 곱하여 단어의 가중치를 계산합니다.\n",
        "        - **TF-IDF**는 Python의 `sklearn` 라이브러리를 사용하여 TF-IDF를 계산합니다.\n",
        "            - 개념\n",
        "                - **TF (Term Frequency)**: 특정 단어가 문서 내에서 얼마나 자주 등장하는지를 나타내는 값.\n",
        "                - **IDF (Inverse Document Frequency)**: 특정 단어가 전체 문서 집합에서 얼마나 흔하지 않은지를 나타내는 값.\n",
        "            \n",
        "            TF-IDF는 단어의 중요도를 평가하여, 문서에서 자주 등장하지만 모든 문서에 공통적으로 나타나는 단어들(예: \"the\", \"and\")의 중요도를 낮추고, 특정 문서에서만 빈번하게 등장하는 단어들의 중요도를 높입니다."
      ],
      "metadata": {
        "id": "160ElWovQACq"
      }
    },
    {
      "cell_type": "code",
      "source": [
        "from sklearn.feature_extraction.text import TfidfVectorizer\n",
        "\n",
        "# 예제 문서 집합\n",
        "documents = [\n",
        "    \"자연어 처리는 인공지능의 한 분야입니다.\",\n",
        "    \"자연어 처리와 컴퓨터 비전은 인공지능의 두 가지 중요한 분야입니다.\",\n",
        "    \"컴퓨터 비전은 이미지와 비디오 데이터를 처리하는 기술입니다.\"\n",
        "]\n",
        "\n",
        "# TF-IDF 벡터라이저 초기화\n",
        "vectorizer = TfidfVectorizer()                                                   # 토큰화\n",
        "\n",
        "# 문서에 TF-IDF 적용\n",
        "tfidf_matrix = vectorizer.fit_transform(documents)                               #특정 단어의 빈도수 분석\n",
        "\n",
        "# 단어 리스트 출력\n",
        "print(\"Vocabulary:\", vectorizer.get_feature_names_out())\n",
        "\n",
        "# TF-IDF 행렬 출력\n",
        "print(\"TF-IDF Matrix:\\n\", tfidf_matrix.toarray())\n",
        "\n",
        "# 특정 단어의 TF-IDF 값 출력 (예: '인공지능의')\n",
        "word = '인공지능의'\n",
        "word_index = vectorizer.vocabulary_.get(word)\n",
        "if word_index is not None:\n",
        "    print(f\"\\nTF-IDF value for '{word}':\", tfidf_matrix[:, word_index].toarray())\n",
        "else:\n",
        "    print(f\"'{word}' is not in the vocabulary.\")"
      ],
      "metadata": {
        "id": "j0Y10tD4QE3Z",
        "colab": {
          "base_uri": "https://localhost:8080/"
        },
        "outputId": "4bbb39e9-5fd6-4ae7-e862-be385f57e476"
      },
      "execution_count": 16,
      "outputs": [
        {
          "output_type": "stream",
          "name": "stdout",
          "text": [
            "Vocabulary: ['가지' '기술입니다' '데이터를' '분야입니다' '비디오' '비전은' '이미지와' '인공지능의' '자연어' '중요한' '처리는'\n",
            " '처리와' '처리하는' '컴퓨터']\n",
            "TF-IDF Matrix:\n",
            " [[0.         0.         0.         0.45985353 0.         0.\n",
            "  0.         0.45985353 0.45985353 0.         0.60465213 0.\n",
            "  0.         0.        ]\n",
            " [0.41197298 0.         0.         0.31331607 0.         0.31331607\n",
            "  0.         0.31331607 0.31331607 0.41197298 0.         0.41197298\n",
            "  0.         0.31331607]\n",
            " [0.         0.40301621 0.40301621 0.         0.40301621 0.30650422\n",
            "  0.40301621 0.         0.         0.         0.         0.\n",
            "  0.40301621 0.30650422]]\n",
            "\n",
            "TF-IDF value for '인공지능의': [[0.45985353]\n",
            " [0.31331607]\n",
            " [0.        ]]\n"
          ]
        }
      ]
    },
    {
      "cell_type": "markdown",
      "source": [
        "*  띄어쓰기 기준으로 잘라준다 .\n",
        "*  특징값 [[0.45985353] 이라고 나온다.\n",
        "* TF-IDF로도 충분하지만 좀 더 고도화 된 작업을 할 때 BM25 사용하는 것도 괜찮다.\n"
      ],
      "metadata": {
        "id": "SjrLylrNcfJe"
      }
    },
    {
      "cell_type": "markdown",
      "source": [],
      "metadata": {
        "id": "ZaCMBDxhcwPY"
      }
    },
    {
      "cell_type": "markdown",
      "source": [
        "- **TF-IDF Matrix**: 각 단어가 각 문서에서 가지는 중요도를 나타냅니다. 값이 클수록 해당 문서에서 더 중요한 단어로 간주됩니다.\n",
        "- 예를 들어, `인공지능`이라는 단어의 TF-IDF 값을 확인하면, 특정 문서에서 얼마나 중요한지 알 수 있습니다."
      ],
      "metadata": {
        "id": "L6iQBCJxQUj5"
      }
    },
    {
      "cell_type": "markdown",
      "source": [
        "- **BM25**: TF-IDF의 확장 버전으로, 단어의 빈도와 문서 길이를 고려하여 검색의 정확도를 높이는 정보 검색 모델입니다. **BM25는** `rank-bm25` 라이브러리를 사용하여 BM25를 계산 합니다.\n",
        "    \n",
        "    개념\n",
        "    \n",
        "    - **BM25**: TF-IDF의 개선된 버전으로, 단어의 빈도, 문서 길이, 그리고 TF와 IDF 간의 균형을 고려하여 검색 성능을 최적화한 정보 검색 알고리즘입니다. BM25는 단순 TF-IDF보다 더 정교한 방법으로 문서와 질의 간의 유사도를 측정합니다."
      ],
      "metadata": {
        "id": "vMzPPeWFQXsY"
      }
    },
    {
      "cell_type": "code",
      "source": [
        "! pip install rank-bm25\n",
        "\n",
        "from rank_bm25 import BM25Okapi\n",
        "from nltk.tokenize import word_tokenize\n",
        "\n",
        "# 예제 문서 집합\n",
        "documents = [\n",
        "    \"자연어 처리는 인공지능의 한 분야입니다.\",\n",
        "    \"자연어 처리와 컴퓨터 비전은 인공지능의 두 가지 중요한 분야입니다.\",\n",
        "    \"컴퓨터 비전은 이미지와 비디오 데이터를 처리하는 기술입니다.\"\n",
        "]\n",
        "\n",
        "# 문서를 토큰화\n",
        "tokenized_documents = [word_tokenize(doc) for doc in documents]\n",
        "\n",
        "# BM25 모델 초기화\n",
        "bm25 = BM25Okapi(tokenized_documents)\n",
        "\n",
        "# 예제 질의\n",
        "query = \"인공지능 분야\"\n",
        "\n",
        "# 질의를 토큰화\n",
        "tokenized_query = word_tokenize(query)\n",
        "\n",
        "# 문서들의 BM25 점수 계산\n",
        "scores = bm25.get_scores(tokenized_query)\n",
        "\n",
        "# 각 문서에 대한 BM25 점수 출력\n",
        "print(\"BM25 Scores:\", scores)\n",
        "\n",
        "# 가장 관련성 높은 문서 출력\n",
        "best_doc_index = scores.argmax()\n",
        "print(\"\\\\nMost relevant document:\", documents[best_doc_index])  # TF-IDF 보다 괜찮은 결과가 나온다. 협업에 가서도 이 코드 그대로 사용 가능\n",
        "                                                                # 다른 문장들을 입력해서 여러가지 시도도 해볼 것"
      ],
      "metadata": {
        "id": "aclJEfh6QaCB",
        "colab": {
          "base_uri": "https://localhost:8080/"
        },
        "outputId": "56abf791-3a8d-40bc-91fe-a4bcff7bb8c3"
      },
      "execution_count": 18,
      "outputs": [
        {
          "output_type": "stream",
          "name": "stdout",
          "text": [
            "Collecting rank-bm25\n",
            "  Downloading rank_bm25-0.2.2-py3-none-any.whl.metadata (3.2 kB)\n",
            "Requirement already satisfied: numpy in /usr/local/lib/python3.10/dist-packages (from rank-bm25) (1.26.4)\n",
            "Downloading rank_bm25-0.2.2-py3-none-any.whl (8.6 kB)\n",
            "Installing collected packages: rank-bm25\n",
            "Successfully installed rank-bm25-0.2.2\n",
            "BM25 Scores: [0. 0. 0.]\n",
            "\\nMost relevant document: 자연어 처리는 인공지능의 한 분야입니다.\n"
          ]
        }
      ]
    },
    {
      "cell_type": "code",
      "source": [
        "# 연습\n",
        "\n",
        "! pip install rank-bm25\n",
        "\n",
        "from rank_bm25 import BM25Okapi\n",
        "from nltk.tokenize import word_tokenize\n",
        "\n",
        "# 예제 문서 집합\n",
        "documents = [\n",
        "    \"자연어 처리는 인공지능의 한 분야입니다.\",\n",
        "    \"자연어 처리와 컴퓨터 비전은 인공지능의 두 가지 중요한 분야입니다.\",\n",
        "    \"컴퓨터 비전은 이미지와 비디오 데이터를 처리하는 기술입니다.\"\n",
        "]\n",
        "\n",
        "# 문서를 토큰화\n",
        "tokenized_documents = [word_tokenize(doc) for doc in documents]\n",
        "\n",
        "# BM25 모델 초기화\n",
        "bm25 = BM25Okapi(tokenized_documents)\n",
        "\n",
        "# 예제 질의\n",
        "query = \"컴퓨터\"\n",
        "\n",
        "# 질의를 토큰화\n",
        "tokenized_query = word_tokenize(query)\n",
        "\n",
        "# 문서들의 BM25 점수 계산\n",
        "scores = bm25.get_scores(tokenized_query)\n",
        "\n",
        "# 각 문서에 대한 BM25 점수 출력\n",
        "print(\"BM25 Scores:\", scores)\n",
        "\n",
        "# 가장 관련성 높은 문서 출력\n",
        "best_doc_index = scores.argmax()\n",
        "print(\"\\\\nMost relevant document:\", documents[best_doc_index])"
      ],
      "metadata": {
        "colab": {
          "base_uri": "https://localhost:8080/"
        },
        "id": "7Geo5xeceQOP",
        "outputId": "2ad14334-a2d9-4f1c-f515-300cb118b205"
      },
      "execution_count": 22,
      "outputs": [
        {
          "output_type": "stream",
          "name": "stdout",
          "text": [
            "Requirement already satisfied: rank-bm25 in /usr/local/lib/python3.10/dist-packages (0.2.2)\n",
            "Requirement already satisfied: numpy in /usr/local/lib/python3.10/dist-packages (from rank-bm25) (1.26.4)\n",
            "BM25 Scores: [0.         0.01479238 0.01645652]\n",
            "\\nMost relevant document: 컴퓨터 비전은 이미지와 비디오 데이터를 처리하는 기술입니다.\n"
          ]
        }
      ]
    },
    {
      "cell_type": "markdown",
      "source": [
        "- **BM25 Scores**: 각 문서가 주어진 질의와 얼마나 관련성이 있는지를 나타냅니다. 값이 클수록 해당 문서가 질의와 더 관련이 있다고 판단됩니다.\n",
        "- 예제에서는 \"인공지능 분야\"라는 질의를 기준으로 문서들의 관련성 점수를 계산하여, 가장 관련성이 높은 문서를 출력합니다.\n",
        "- **Named Entity Recognition (NER)**: 텍스트에서 사람, 장소, 조직 등 명명된 실체를 추출하는 작업입니다."
      ],
      "metadata": {
        "id": "gFRnOcXtQcBo"
      }
    },
    {
      "cell_type": "code",
      "source": [
        "from transformers import pipeline\n",
        "\n",
        "nlp = pipeline(\"ner\")\n",
        "text = \"John works at OpenAI.\"\n",
        "entities = nlp(text)\n",
        "print(entities)  # Output: [{'word': 'John', 'score': 0.99, 'entity': 'PER'}, ...]"
      ],
      "metadata": {
        "id": "x9H9cLgoQeO4"
      },
      "execution_count": null,
      "outputs": []
    },
    {
      "cell_type": "markdown",
      "source": [
        "4. **자연어 생성(NLG, Natural Language Generation)**\n",
        "    - **Seq2Seq 모델**: 입력 시퀀스에서 출력 시퀀스로 변환하는 모델로, 기계 번역에서 자주 사용됩니다. 입력 문장을 받아 번역된 문장을 생성하거나 요약을 생성할 수 있습니다.\n",
        "    - **Transformer 기반 생성**: GPT 시리즈와 같은 모델은 문장을 생성하는 데 사용되며, 텍스트 완성, 스토리 생성 등 다양한 응용 분야에 사용됩니다.\n",
        "5. **기계 번역(Machine Translation)**\n",
        "    - **통계적 기계 번역(Statistical Machine Translation, SMT)**: 문장 단위로 번역 확률을 계산하는 기법입니다. 입력 언어와 출력 언어 간의 번역 패턴을 통계적으로 학습합니다.\n",
        "    - **신경망 기계 번역(Neural Machine Translation, NMT)**: Seq2Seq 모델과 Attention 메커니즘을 사용하여 문장을 번역합니다. 현재는 Transformer 기반의 NMT가 널리 사용됩니다."
      ],
      "metadata": {
        "id": "PRQSlnNdQfRI"
      }
    },
    {
      "cell_type": "code",
      "source": [
        "from transformers import MarianMTModel, MarianTokenizer\n",
        "\n",
        "model_name = \"Helsinki-NLP/opus-mt-en-de\"\n",
        "tokenizer = MarianTokenizer.from_pretrained(model_name)\n",
        "model = MarianMTModel.from_pretrained(model_name)\n",
        "\n",
        "input_text = \"Natural language processing is fascinating.\"\n",
        "translated = model.generate(**tokenizer(input_text, return_tensors=\"pt\", padding=True))\n",
        "translation = tokenizer.decode(translated[0], skip_special_tokens=True)\n",
        "print(translation)  # Output: 'Die Verarbeitung natürlicher Sprache ist faszinierend.'"
      ],
      "metadata": {
        "id": "65VmukpYQijA"
      },
      "execution_count": null,
      "outputs": []
    }
  ]
}