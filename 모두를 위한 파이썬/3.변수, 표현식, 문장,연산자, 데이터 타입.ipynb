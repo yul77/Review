{
 "cells": [
  {
   "cell_type": "markdown",
   "id": "cee6e79c",
   "metadata": {},
   "source": [
    "# 상수(Constants)\n",
    "상수는 값이 변하지 않는다 "
   ]
  },
  {
   "cell_type": "code",
   "execution_count": 1,
   "id": "c7e867df",
   "metadata": {},
   "outputs": [
    {
     "name": "stdout",
     "output_type": "stream",
     "text": [
      "123\n",
      "98.6\n",
      "Hello World\n"
     ]
    }
   ],
   "source": [
    "print(123)  #123이 상수\n",
    "print(98.6) #98.6이 상수\n",
    "print(\"Hello World\") # Hello World 가 상수"
   ]
  },
  {
   "cell_type": "markdown",
   "id": "99c4bf18",
   "metadata": {},
   "source": [
    "# 변수(Variables)\n",
    "\n",
    "우리는 메모리에 사람이 이해 할 수 있는 변수명으로 원하는 데이터를 넣을 수 있는 공간을 확보 할 수 있다."
   ]
  },
  {
   "cell_type": "code",
   "execution_count": 3,
   "id": "5fdc9ac2",
   "metadata": {},
   "outputs": [
    {
     "name": "stdout",
     "output_type": "stream",
     "text": [
      "12.2\n",
      "100\n"
     ]
    }
   ],
   "source": [
    "x = 12.2\n",
    "print(x) # 12.2가 출력.\n",
    "y = 14\n",
    "x = 100 \n",
    "print(x) # 100이 출력."
   ]
  },
  {
   "cell_type": "markdown",
   "id": "08ee02ed",
   "metadata": {},
   "source": [
    "- x,y : 메모리에 할당된 변수 이름\n",
    "- = : 할당자이며 해당 변수에 특정 값을 넣어주는 역할을 한다 (화살표호 생각할 것)\n",
    "- 12.2, 14: 값이며 해당 변수에서 우리가 넣은 값\n",
    "\n",
    "변수로 선언 한 뒤 해당 변수에 넣을 수 있는 값은 바꿀 수 있다."
   ]
  },
  {
   "cell_type": "markdown",
   "id": "7879ffea",
   "metadata": {},
   "source": [
    "### 변수의 이름을 정하는 규칙 \n",
    "- 반드시 문자 또는 underscore(_)로 시작 ( 숫자로는 시작할 수 없다.)\n",
    "- 문자와 숫자 underscore(_)를 포함 할 수 있다.\n",
    "- 읽는 사람이 읽기 편하도록 변수명을 정하는 것이 중요"
   ]
  },
  {
   "cell_type": "code",
   "execution_count": 5,
   "id": "9a2f1c58",
   "metadata": {},
   "outputs": [
    {
     "name": "stdout",
     "output_type": "stream",
     "text": [
      "437.5\n",
      "437.5\n",
      "437.5\n"
     ]
    }
   ],
   "source": [
    "#Case1 - Worst\n",
    "xiojqwerlkj  = 35.0\n",
    "dpemdnlem = 12.50\n",
    "rlaxotjs = xiojqwerlkj * dpemdnlem\n",
    "print(rlaxotjs)\n",
    "\n",
    "#Case2 - Bad\n",
    "a = 35.0 \n",
    "b = 12.50\n",
    "c = a * b\n",
    "print(c)\n",
    "\n",
    "#Case3 - Good\n",
    "hours = 35.0\n",
    "rate = 12.50\n",
    "pay = hours * rate\n",
    "print(pay)\n",
    "\n",
    "#파이썬은 3가지 케이스를 모두 동일하게 인지하지만 코드를 읽는 사람 입장에서는 세번재 케이스가 가장 이해하기 쉬울 것"
   ]
  },
  {
   "cell_type": "markdown",
   "id": "55435855",
   "metadata": {},
   "source": [
    "### 할당문 (Assignment Statements)\n",
    "\n",
    "대입문은 오른쪽 표현의 결과를 왼쪽의 변수에 저장하는 것으로 구성되어 있습니다. "
   ]
  },
  {
   "cell_type": "code",
   "execution_count": 6,
   "id": "01b98872",
   "metadata": {},
   "outputs": [
    {
     "name": "stdout",
     "output_type": "stream",
     "text": [
      "0.9359999999999999\n",
      "0.2336256000000002\n"
     ]
    }
   ],
   "source": [
    "x = 0.6\n",
    "x = 3.9 * x * (1 - x)\n",
    "print(x) # 0.936 출력됨. \n",
    "          #3.9 * 0.6 * (1 - 0.6)\n",
    "x = 3.9 * x * (1 - x )\n",
    "print(x) # 0.2336256 출력됨. \n",
    "          #3.9 * 0.936 * (1 - 0.936)"
   ]
  },
  {
   "cell_type": "code",
   "execution_count": null,
   "id": "dc841a31",
   "metadata": {},
   "outputs": [],
   "source": []
  },
  {
   "cell_type": "code",
   "execution_count": null,
   "id": "810bb57b",
   "metadata": {},
   "outputs": [],
   "source": []
  },
  {
   "cell_type": "code",
   "execution_count": null,
   "id": "898de9df",
   "metadata": {},
   "outputs": [],
   "source": []
  },
  {
   "cell_type": "code",
   "execution_count": null,
   "id": "340960f3",
   "metadata": {},
   "outputs": [],
   "source": []
  }
 ],
 "metadata": {
  "kernelspec": {
   "display_name": "Python 3 (ipykernel)",
   "language": "python",
   "name": "python3"
  },
  "language_info": {
   "codemirror_mode": {
    "name": "ipython",
    "version": 3
   },
   "file_extension": ".py",
   "mimetype": "text/x-python",
   "name": "python",
   "nbconvert_exporter": "python",
   "pygments_lexer": "ipython3",
   "version": "3.11.4"
  }
 },
 "nbformat": 4,
 "nbformat_minor": 5
}
