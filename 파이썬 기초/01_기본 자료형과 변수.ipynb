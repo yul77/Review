{
 "cells": [
  {
   "cell_type": "markdown",
   "id": "265f07cb",
   "metadata": {},
   "source": [
    "### 기본 자료형과 변수\n",
    "\n",
    "#### 기본 자료형 (숫자, 문자, 참거짓)\n",
    "\n",
    "숫자\n",
    "- 정수(int)\n",
    "- 실수(float)"
   ]
  },
  {
   "cell_type": "code",
   "execution_count": 1,
   "id": "9c6f9696",
   "metadata": {},
   "outputs": [
    {
     "name": "stdout",
     "output_type": "stream",
     "text": [
      "1\n",
      "1.5\n"
     ]
    }
   ],
   "source": [
    "print(1)\n",
    "print(1.5)"
   ]
  },
  {
   "cell_type": "markdown",
   "id": "86b06e6e",
   "metadata": {},
   "source": [
    "type함수"
   ]
  },
  {
   "cell_type": "code",
   "execution_count": 4,
   "id": "8e6811c0",
   "metadata": {},
   "outputs": [
    {
     "data": {
      "text/plain": [
       "float"
      ]
     },
     "execution_count": 4,
     "metadata": {},
     "output_type": "execute_result"
    }
   ],
   "source": [
    "type(1.5)"
   ]
  },
  {
   "cell_type": "markdown",
   "id": "960345e4",
   "metadata": {},
   "source": [
    "사칙연산 \n",
    "- $+$ : 더하기\n",
    "- $-$ : 빼기\n",
    "- $*$ : 곱하기\n",
    "- / : 나누기\n",
    "- //: 몫\n",
    "- % : 나머지"
   ]
  },
  {
   "cell_type": "code",
   "execution_count": 5,
   "id": "fe15b448",
   "metadata": {},
   "outputs": [
    {
     "data": {
      "text/plain": [
       "1"
      ]
     },
     "execution_count": 5,
     "metadata": {},
     "output_type": "execute_result"
    }
   ],
   "source": [
    "10%3"
   ]
  },
  {
   "cell_type": "markdown",
   "id": "c95e36a8",
   "metadata": {},
   "source": [
    "#### 문자 \n",
    "- 문자(str)\n",
    "작은 따옴표 또는 큰 따옴표로 처음과 끝을 표시하여 선언"
   ]
  },
  {
   "cell_type": "code",
   "execution_count": 6,
   "id": "63dda2d3",
   "metadata": {},
   "outputs": [
    {
     "name": "stdout",
     "output_type": "stream",
     "text": [
      "안녕\n"
     ]
    }
   ],
   "source": [
    "print(\"안녕\")"
   ]
  },
  {
   "cell_type": "code",
   "execution_count": 7,
   "id": "5a71ca69",
   "metadata": {},
   "outputs": [
    {
     "data": {
      "text/plain": [
       "str"
      ]
     },
     "execution_count": 7,
     "metadata": {},
     "output_type": "execute_result"
    }
   ],
   "source": [
    "type(\"안녕\")"
   ]
  },
  {
   "cell_type": "markdown",
   "id": "cba79805",
   "metadata": {},
   "source": [
    "##### 문자의 인덱싱, 슬라이싱\n",
    "주어진 문자에서 필요한 부분만 가져올 수 있음.\n",
    "대괄호 [시작: 끝: 단위] 를 사용"
   ]
  },
  {
   "cell_type": "code",
   "execution_count": 16,
   "id": "c98b1042",
   "metadata": {},
   "outputs": [
    {
     "data": {
      "text/plain": [
       "'동물'"
      ]
     },
     "execution_count": 16,
     "metadata": {},
     "output_type": "execute_result"
    }
   ],
   "source": [
    "\"동해물과 백두산이 마르고 닳도록\"[0:4:2]"
   ]
  },
  {
   "cell_type": "markdown",
   "id": "542f167b",
   "metadata": {},
   "source": [
    "비교연산\n",
    "- == : 같은가?\n",
    "- != : 다른가?\n",
    "- $>=$ : 크거나 같은가?( 작거나 같은가?)\n",
    "- $>$  : 큰가?(작은가?)"
   ]
  },
  {
   "cell_type": "code",
   "execution_count": 18,
   "id": "9eeb522d",
   "metadata": {},
   "outputs": [
    {
     "data": {
      "text/plain": [
       "True"
      ]
     },
     "execution_count": 18,
     "metadata": {},
     "output_type": "execute_result"
    }
   ],
   "source": [
    "10 >=1"
   ]
  },
  {
   "cell_type": "markdown",
   "id": "77c0d7fd",
   "metadata": {},
   "source": [
    "논리 연산\n",
    "- and :두 값이 일치해야함\n",
    "- or  :둘 중 하나만 true이면 true\n",
    "- not : 참이 아니면 거짓. 거짓이 아니면 참."
   ]
  },
  {
   "cell_type": "markdown",
   "id": "f603423c",
   "metadata": {},
   "source": [
    "### 변수 \n",
    "변수\n",
    "- 데이터를 담는 공간\n",
    "- 위에서 살펴본 자료형을 저장할 수 있음\n",
    "선언방법\n",
    "- 변수명 = 데이터"
   ]
  },
  {
   "cell_type": "code",
   "execution_count": 20,
   "id": "3aa1f391",
   "metadata": {},
   "outputs": [
    {
     "name": "stdout",
     "output_type": "stream",
     "text": [
      "첫번째 과일은 사과, 두번째 과일은 망고\n"
     ]
    }
   ],
   "source": [
    "# 변수명 = 데이터\n",
    "fruit1 = \"사과\"\n",
    "fruit2 = \"망고\"\n",
    "\n",
    "print(f\"첫번째 과일은 {fruit1}, 두번째 과일은 {fruit2}\")"
   ]
  }
 ],
 "metadata": {
  "kernelspec": {
   "display_name": "Python 3 (ipykernel)",
   "language": "python",
   "name": "python3"
  },
  "language_info": {
   "codemirror_mode": {
    "name": "ipython",
    "version": 3
   },
   "file_extension": ".py",
   "mimetype": "text/x-python",
   "name": "python",
   "nbconvert_exporter": "python",
   "pygments_lexer": "ipython3",
   "version": "3.11.4"
  }
 },
 "nbformat": 4,
 "nbformat_minor": 5
}
