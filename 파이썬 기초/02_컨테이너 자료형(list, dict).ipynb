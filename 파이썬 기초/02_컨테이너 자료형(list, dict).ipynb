{
 "cells": [
  {
   "cell_type": "markdown",
   "id": "cbacd557",
   "metadata": {},
   "source": [
    "### 컨테이너 자료형(list,dict)\n",
    "컨테이너 자료형은 컨테이너 박스처럼 많은 자료형을 담을 수 있는 공간."
   ]
  },
  {
   "cell_type": "markdown",
   "id": "79c6fd10",
   "metadata": {},
   "source": [
    "#### list\n",
    "- [자료1, 자료2]\n",
    "\n",
    "\n",
    "#### 선언(create)"
   ]
  },
  {
   "cell_type": "code",
   "execution_count": 1,
   "id": "fc29a4b3",
   "metadata": {},
   "outputs": [
    {
     "data": {
      "text/plain": [
       "['jenny', 'james', 'john']"
      ]
     },
     "execution_count": 1,
     "metadata": {},
     "output_type": "execute_result"
    }
   ],
   "source": [
    "names = [\"jenny\",\"james\",\"john\"]\n",
    "names"
   ]
  },
  {
   "cell_type": "markdown",
   "id": "e8505e84",
   "metadata": {},
   "source": [
    "#### 인덱싱과 슬라이싱 (read)\n",
    "문자 자료형과 마찬가지로 주어진 리스트에서 필요한 부분만 가져올 수 있음.<br> \n",
    "대괄호 [시작: 끝: 단위]를 사용"
   ]
  },
  {
   "cell_type": "code",
   "execution_count": 2,
   "id": "ff8c00e5",
   "metadata": {},
   "outputs": [
    {
     "data": {
      "text/plain": [
       "'james'"
      ]
     },
     "execution_count": 2,
     "metadata": {},
     "output_type": "execute_result"
    }
   ],
   "source": [
    "names[1]"
   ]
  },
  {
   "cell_type": "markdown",
   "id": "bf7497c8",
   "metadata": {},
   "source": [
    "##### 수정(update)"
   ]
  },
  {
   "cell_type": "code",
   "execution_count": 3,
   "id": "28827962",
   "metadata": {},
   "outputs": [
    {
     "data": {
      "text/plain": [
       "['tom', 'james', 'john']"
      ]
     },
     "execution_count": 3,
     "metadata": {},
     "output_type": "execute_result"
    }
   ],
   "source": [
    "names[0]='tom'\n",
    "names"
   ]
  },
  {
   "cell_type": "markdown",
   "id": "ad62c330",
   "metadata": {},
   "source": [
    "##### 삭제(delete)"
   ]
  },
  {
   "cell_type": "code",
   "execution_count": 5,
   "id": "5cd5dc7c",
   "metadata": {},
   "outputs": [
    {
     "data": {
      "text/plain": [
       "['james', 'john']"
      ]
     },
     "execution_count": 5,
     "metadata": {},
     "output_type": "execute_result"
    }
   ],
   "source": [
    "names.remove('tom')\n",
    "names"
   ]
  },
  {
   "cell_type": "markdown",
   "id": "5046a4b1",
   "metadata": {},
   "source": [
    "##### dict\n",
    "-{key:val, key:val}"
   ]
  },
  {
   "cell_type": "markdown",
   "id": "3fbefac7",
   "metadata": {},
   "source": [
    "#### 선언(create)"
   ]
  },
  {
   "cell_type": "code",
   "execution_count": 6,
   "id": "94366333",
   "metadata": {},
   "outputs": [
    {
     "data": {
      "text/plain": [
       "{'aa123': '123', 'bb456': '456', 'cc678': '678'}"
      ]
     },
     "execution_count": 6,
     "metadata": {},
     "output_type": "execute_result"
    }
   ],
   "source": [
    "users = {\"aa123\":\"123\", \"bb456\":\"456\",\"cc678\":\"678\"}\n",
    "users"
   ]
  },
  {
   "cell_type": "markdown",
   "id": "2a44200c",
   "metadata": {},
   "source": [
    "##### 조회(read)\n",
    "\n",
    "인덱스가 없음. 이런 구조를 hash형 자료라고도 하는데 훨씬 검색 속도가 빠름 <br>\n",
    "인스타 해시태그 할때 그 해시와 같음<br><br>\n",
    "[key]값으로 조회"
   ]
  },
  {
   "cell_type": "code",
   "execution_count": 7,
   "id": "d04b6b61",
   "metadata": {},
   "outputs": [
    {
     "data": {
      "text/plain": [
       "'123'"
      ]
     },
     "execution_count": 7,
     "metadata": {},
     "output_type": "execute_result"
    }
   ],
   "source": [
    "users[\"aa123\"]"
   ]
  },
  {
   "cell_type": "markdown",
   "id": "84aea376",
   "metadata": {},
   "source": [
    "##### 수정(update)"
   ]
  },
  {
   "cell_type": "code",
   "execution_count": 10,
   "id": "9e5b0da4",
   "metadata": {},
   "outputs": [
    {
     "data": {
      "text/plain": [
       "{'aa123': 'qq123', 'bb456': '456', 'cc678': '678'}"
      ]
     },
     "execution_count": 10,
     "metadata": {},
     "output_type": "execute_result"
    }
   ],
   "source": [
    "users[\"aa123\"]=\"qq123\" # aa123의 값을 qq123으로 바꿔줘\n",
    "users"
   ]
  },
  {
   "cell_type": "code",
   "execution_count": 11,
   "id": "41afb7af",
   "metadata": {},
   "outputs": [
    {
     "data": {
      "text/plain": [
       "{'aa123': 'qq123', 'bb456': '456', 'cc678': '678', 'dd123': 'test'}"
      ]
     },
     "execution_count": 11,
     "metadata": {},
     "output_type": "execute_result"
    }
   ],
   "source": [
    "# 새로운 요소를 추가하는 방법도 같음\n",
    "users['dd123']='test'\n",
    "users"
   ]
  },
  {
   "cell_type": "markdown",
   "id": "7c4f42c0",
   "metadata": {},
   "source": [
    "##### 삭제(delete)"
   ]
  },
  {
   "cell_type": "code",
   "execution_count": 12,
   "id": "91ebe144",
   "metadata": {},
   "outputs": [
    {
     "data": {
      "text/plain": [
       "{'bb456': '456', 'cc678': '678', 'dd123': 'test'}"
      ]
     },
     "execution_count": 12,
     "metadata": {},
     "output_type": "execute_result"
    }
   ],
   "source": [
    "del users[\"aa123\"]\n",
    "users"
   ]
  }
 ],
 "metadata": {
  "kernelspec": {
   "display_name": "Python 3 (ipykernel)",
   "language": "python",
   "name": "python3"
  },
  "language_info": {
   "codemirror_mode": {
    "name": "ipython",
    "version": 3
   },
   "file_extension": ".py",
   "mimetype": "text/x-python",
   "name": "python",
   "nbconvert_exporter": "python",
   "pygments_lexer": "ipython3",
   "version": "3.11.4"
  }
 },
 "nbformat": 4,
 "nbformat_minor": 5
}
