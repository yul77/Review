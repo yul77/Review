{
  "nbformat": 4,
  "nbformat_minor": 0,
  "metadata": {
    "colab": {
      "private_outputs": true,
      "provenance": [],
      "authorship_tag": "ABX9TyP5I9Rp0NTf+s4rQYtETBE4",
      "include_colab_link": true
    },
    "kernelspec": {
      "name": "python3",
      "display_name": "Python 3"
    },
    "language_info": {
      "name": "python"
    }
  },
  "cells": [
    {
      "cell_type": "markdown",
      "metadata": {
        "id": "view-in-github",
        "colab_type": "text"
      },
      "source": [
        "<a href=\"https://colab.research.google.com/github/yul77/Review/blob/main/LLM/Untitled0.ipynb\" target=\"_parent\"><img src=\"https://colab.research.google.com/assets/colab-badge.svg\" alt=\"Open In Colab\"/></a>"
      ]
    },
    {
      "cell_type": "code",
      "execution_count": null,
      "metadata": {
        "id": "bZsoCg-1qaUo"
      },
      "outputs": [],
      "source": [
        "!git clone https://github.com/yul77/Review.git"
      ]
    },
    {
      "cell_type": "code",
      "source": [
        "import shutil\n",
        "\n",
        "# 예: '자연어 처리 1장.ipynb' 파일을 레포지토리 내의 'notebooks' 폴더로 이동\n",
        "shutil.move('LLM_Part01.ipynb', 'Review/LLM/LLM_Part01.ipynb')\n"
      ],
      "metadata": {
        "id": "XjiumT67qcoC"
      },
      "execution_count": null,
      "outputs": []
    }
  ]
}