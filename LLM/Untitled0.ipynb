{
  "nbformat": 4,
  "nbformat_minor": 0,
  "metadata": {
    "colab": {
      "private_outputs": true,
      "provenance": [],
      "authorship_tag": "ABX9TyOTxLF8d8fek/VKZa22FvM3",
      "include_colab_link": true
    },
    "kernelspec": {
      "name": "python3",
      "display_name": "Python 3"
    },
    "language_info": {
      "name": "python"
    }
  },
  "cells": [
    {
      "cell_type": "markdown",
      "metadata": {
        "id": "view-in-github",
        "colab_type": "text"
      },
      "source": [
        "<a href=\"https://colab.research.google.com/github/yul77/Review/blob/main/LLM/Untitled0.ipynb\" target=\"_parent\"><img src=\"https://colab.research.google.com/assets/colab-badge.svg\" alt=\"Open In Colab\"/></a>"
      ]
    },
    {
      "cell_type": "code",
      "execution_count": null,
      "metadata": {
        "id": "bZsoCg-1qaUo"
      },
      "outputs": [],
      "source": [
        "!git clone https://github.com/yul77/Review.git"
      ]
    },
    {
      "cell_type": "code",
      "source": [
        "import shutil\n",
        "\n",
        "# 예: '자연어 처리 1장.ipynb' 파일을 레포지토리 내의 'notebooks' 폴더로 이동\n",
        "shutil.move('LLM_Part01.ipynb', 'Review/LLM/LLM_Part01.ipynb')\n"
      ],
      "metadata": {
        "id": "XjiumT67qcoC"
      },
      "execution_count": null,
      "outputs": []
    },
    {
      "cell_type": "code",
      "source": [],
      "metadata": {
        "id": "JDZLqOZ7rwgo"
      },
      "execution_count": null,
      "outputs": []
    },
    {
      "cell_type": "code",
      "source": [],
      "metadata": {
        "id": "mTA6WYJvrxFZ"
      },
      "execution_count": null,
      "outputs": []
    },
    {
      "cell_type": "markdown",
      "source": [
        "내용 업로드해도 마찬가지인가\n"
      ],
      "metadata": {
        "id": "64dSqfNYrxDM"
      }
    },
    {
      "cell_type": "code",
      "source": [],
      "metadata": {
        "id": "2xFrLTMvrxAv"
      },
      "execution_count": null,
      "outputs": []
    }
  ]
}